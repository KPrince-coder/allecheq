{
  "nbformat": 4,
  "nbformat_minor": 0,
  "metadata": {
    "colab": {
      "provenance": []
    },
    "kernelspec": {
      "name": "python3",
      "display_name": "Python 3"
    },
    "language_info": {
      "name": "python"
    }
  },
  "cells": [
    {
      "cell_type": "markdown",
      "source": [
        "# **ALLECHEQ: YOUR FOOD ALLERGEN GUIDE**\n",
        "\n",
        "### **Group Partners:**\n",
        "Atuah Theophilus Opoku (4199520)\n",
        "\n",
        "Kyeremeh Prince Kwabena (4215120)\n",
        "\n"
      ],
      "metadata": {
        "id": "zptCcKa-uSjL"
      }
    },
    {
      "cell_type": "markdown",
      "source": [
        "# **GitHub Repository**\n",
        "For our project, we uploaded the dataset, project code in Google Colab, and mobile app codes (both frontend and backend) in our public Github repository named [allecheq](https://github.com/KPrince-coder/allecheq). With this, anyone can see for themselves the code and how we approached this problem, as well as run our mobile app locally on their devices."
      ],
      "metadata": {
        "id": "lFHIg3ifur1e"
      }
    },
    {
      "cell_type": "markdown",
      "source": [
        "# **Project Summary**\n",
        "\n",
        "AlleCheq - Food Allergen Detection Mobile Application\n",
        "\n",
        "The AlleCheq mobile application is designed to assist users, particularly children, and students, in identifying allergens in food products through real-time image recognition. This app empowers users to make informed decisions by detecting allergens listed on food labels. The primary audience includes children under 12 and students in middle and high school, while the secondary audience comprises parents, guardians, and individuals with food allergies.\n",
        "Key features of the app include allergen detection, where users can scan food labels with the camera, and the app will detect and highlight potential allergens using a machine learning model. The app also allows users to toggle specific allergens on or off, enabling it to filter detection results based on personal preferences. Additionally, AlleCheq includes an emergency feature that stores and sends alerts to emergency contacts during an allergic reaction. The \"Did You Know\" page provides users with educational content on allergens and food safety, enhancing their awareness.\n",
        "The app is built using Kotlin for both the frontend and backend, with Google DataStore serving as the database, and the machine learning model is trained using Google Colab. AlleCheq aims to make food safety accessible, especially for young users, by leveraging technology to prevent allergic reactions and promote safer food choices."
      ],
      "metadata": {
        "id": "21Js453CvgUY"
      }
    },
    {
      "cell_type": "markdown",
      "source": [
        "# **Data Collection**\n",
        "\n",
        "We obtained the 2023 Kaggle dataset titled [\"Food Ingredients & Allergens\"](https://kaggle.com/datasets/uom190346a/food-ingredients-and-allergens) by Laksika Tharmalingam. We then obtained an augmented data from [\"food-allergen-detector\"](https://github.com/splasherzz/food-allergen-detector). The combined dataset will then be used to train and test our AI model for food allergen detection."
      ],
      "metadata": {
        "id": "-GrZRbrBwZ1w"
      }
    },
    {
      "cell_type": "code",
      "source": [
        "# Step 1: Install Dependencies\n",
        "!pip uninstall -y tflite-support\n",
        "!pip install --upgrade tensorflow\n",
        "!pip install --upgrade tflite-support\n",
        "!pip install flatbuffers\n",
        "!pip install --upgrade flatbuffers"
      ],
      "metadata": {
        "colab": {
          "base_uri": "https://localhost:8080/"
        },
        "id": "YJx0OCII6yBN",
        "outputId": "6e29205b-c3ae-47ae-c58f-993f71885a00"
      },
      "execution_count": 2,
      "outputs": [
        {
          "output_type": "stream",
          "name": "stdout",
          "text": [
            "\u001b[33mWARNING: Skipping tflite-support as it is not installed.\u001b[0m\u001b[33m\n",
            "\u001b[0mRequirement already satisfied: tensorflow in /usr/local/lib/python3.10/dist-packages (2.17.0)\n",
            "Requirement already satisfied: absl-py>=1.0.0 in /usr/local/lib/python3.10/dist-packages (from tensorflow) (1.4.0)\n",
            "Requirement already satisfied: astunparse>=1.6.0 in /usr/local/lib/python3.10/dist-packages (from tensorflow) (1.6.3)\n",
            "Requirement already satisfied: flatbuffers>=24.3.25 in /usr/local/lib/python3.10/dist-packages (from tensorflow) (24.3.25)\n",
            "Requirement already satisfied: gast!=0.5.0,!=0.5.1,!=0.5.2,>=0.2.1 in /usr/local/lib/python3.10/dist-packages (from tensorflow) (0.6.0)\n",
            "Requirement already satisfied: google-pasta>=0.1.1 in /usr/local/lib/python3.10/dist-packages (from tensorflow) (0.2.0)\n",
            "Requirement already satisfied: h5py>=3.10.0 in /usr/local/lib/python3.10/dist-packages (from tensorflow) (3.11.0)\n",
            "Requirement already satisfied: libclang>=13.0.0 in /usr/local/lib/python3.10/dist-packages (from tensorflow) (18.1.1)\n",
            "Requirement already satisfied: ml-dtypes<0.5.0,>=0.3.1 in /usr/local/lib/python3.10/dist-packages (from tensorflow) (0.4.0)\n",
            "Requirement already satisfied: opt-einsum>=2.3.2 in /usr/local/lib/python3.10/dist-packages (from tensorflow) (3.3.0)\n",
            "Requirement already satisfied: packaging in /usr/local/lib/python3.10/dist-packages (from tensorflow) (24.1)\n",
            "Requirement already satisfied: protobuf!=4.21.0,!=4.21.1,!=4.21.2,!=4.21.3,!=4.21.4,!=4.21.5,<5.0.0dev,>=3.20.3 in /usr/local/lib/python3.10/dist-packages (from tensorflow) (3.20.3)\n",
            "Requirement already satisfied: requests<3,>=2.21.0 in /usr/local/lib/python3.10/dist-packages (from tensorflow) (2.32.3)\n",
            "Requirement already satisfied: setuptools in /usr/local/lib/python3.10/dist-packages (from tensorflow) (71.0.4)\n",
            "Requirement already satisfied: six>=1.12.0 in /usr/local/lib/python3.10/dist-packages (from tensorflow) (1.16.0)\n",
            "Requirement already satisfied: termcolor>=1.1.0 in /usr/local/lib/python3.10/dist-packages (from tensorflow) (2.4.0)\n",
            "Requirement already satisfied: typing-extensions>=3.6.6 in /usr/local/lib/python3.10/dist-packages (from tensorflow) (4.12.2)\n",
            "Requirement already satisfied: wrapt>=1.11.0 in /usr/local/lib/python3.10/dist-packages (from tensorflow) (1.16.0)\n",
            "Requirement already satisfied: grpcio<2.0,>=1.24.3 in /usr/local/lib/python3.10/dist-packages (from tensorflow) (1.64.1)\n",
            "Requirement already satisfied: tensorboard<2.18,>=2.17 in /usr/local/lib/python3.10/dist-packages (from tensorflow) (2.17.0)\n",
            "Requirement already satisfied: keras>=3.2.0 in /usr/local/lib/python3.10/dist-packages (from tensorflow) (3.4.1)\n",
            "Requirement already satisfied: tensorflow-io-gcs-filesystem>=0.23.1 in /usr/local/lib/python3.10/dist-packages (from tensorflow) (0.37.1)\n",
            "Requirement already satisfied: numpy<2.0.0,>=1.23.5 in /usr/local/lib/python3.10/dist-packages (from tensorflow) (1.26.4)\n",
            "Requirement already satisfied: wheel<1.0,>=0.23.0 in /usr/local/lib/python3.10/dist-packages (from astunparse>=1.6.0->tensorflow) (0.44.0)\n",
            "Requirement already satisfied: rich in /usr/local/lib/python3.10/dist-packages (from keras>=3.2.0->tensorflow) (13.8.0)\n",
            "Requirement already satisfied: namex in /usr/local/lib/python3.10/dist-packages (from keras>=3.2.0->tensorflow) (0.0.8)\n",
            "Requirement already satisfied: optree in /usr/local/lib/python3.10/dist-packages (from keras>=3.2.0->tensorflow) (0.12.1)\n",
            "Requirement already satisfied: charset-normalizer<4,>=2 in /usr/local/lib/python3.10/dist-packages (from requests<3,>=2.21.0->tensorflow) (3.3.2)\n",
            "Requirement already satisfied: idna<4,>=2.5 in /usr/local/lib/python3.10/dist-packages (from requests<3,>=2.21.0->tensorflow) (3.8)\n",
            "Requirement already satisfied: urllib3<3,>=1.21.1 in /usr/local/lib/python3.10/dist-packages (from requests<3,>=2.21.0->tensorflow) (2.0.7)\n",
            "Requirement already satisfied: certifi>=2017.4.17 in /usr/local/lib/python3.10/dist-packages (from requests<3,>=2.21.0->tensorflow) (2024.7.4)\n",
            "Requirement already satisfied: markdown>=2.6.8 in /usr/local/lib/python3.10/dist-packages (from tensorboard<2.18,>=2.17->tensorflow) (3.7)\n",
            "Requirement already satisfied: tensorboard-data-server<0.8.0,>=0.7.0 in /usr/local/lib/python3.10/dist-packages (from tensorboard<2.18,>=2.17->tensorflow) (0.7.2)\n",
            "Requirement already satisfied: werkzeug>=1.0.1 in /usr/local/lib/python3.10/dist-packages (from tensorboard<2.18,>=2.17->tensorflow) (3.0.4)\n",
            "Requirement already satisfied: MarkupSafe>=2.1.1 in /usr/local/lib/python3.10/dist-packages (from werkzeug>=1.0.1->tensorboard<2.18,>=2.17->tensorflow) (2.1.5)\n",
            "Requirement already satisfied: markdown-it-py>=2.2.0 in /usr/local/lib/python3.10/dist-packages (from rich->keras>=3.2.0->tensorflow) (3.0.0)\n",
            "Requirement already satisfied: pygments<3.0.0,>=2.13.0 in /usr/local/lib/python3.10/dist-packages (from rich->keras>=3.2.0->tensorflow) (2.16.1)\n",
            "Requirement already satisfied: mdurl~=0.1 in /usr/local/lib/python3.10/dist-packages (from markdown-it-py>=2.2.0->rich->keras>=3.2.0->tensorflow) (0.1.2)\n",
            "Collecting tflite-support\n",
            "  Downloading tflite_support-0.4.4-cp310-cp310-manylinux2014_x86_64.whl.metadata (2.4 kB)\n",
            "Requirement already satisfied: absl-py>=0.7.0 in /usr/local/lib/python3.10/dist-packages (from tflite-support) (1.4.0)\n",
            "Requirement already satisfied: numpy>=1.20.0 in /usr/local/lib/python3.10/dist-packages (from tflite-support) (1.26.4)\n",
            "Requirement already satisfied: flatbuffers>=2.0 in /usr/local/lib/python3.10/dist-packages (from tflite-support) (24.3.25)\n",
            "Requirement already satisfied: protobuf<4,>=3.18.0 in /usr/local/lib/python3.10/dist-packages (from tflite-support) (3.20.3)\n",
            "Collecting sounddevice>=0.4.4 (from tflite-support)\n",
            "  Downloading sounddevice-0.5.0-py3-none-any.whl.metadata (1.4 kB)\n",
            "Collecting pybind11>=2.6.0 (from tflite-support)\n",
            "  Downloading pybind11-2.13.5-py3-none-any.whl.metadata (9.5 kB)\n",
            "Requirement already satisfied: CFFI>=1.0 in /usr/local/lib/python3.10/dist-packages (from sounddevice>=0.4.4->tflite-support) (1.17.0)\n",
            "Requirement already satisfied: pycparser in /usr/local/lib/python3.10/dist-packages (from CFFI>=1.0->sounddevice>=0.4.4->tflite-support) (2.22)\n",
            "Downloading tflite_support-0.4.4-cp310-cp310-manylinux2014_x86_64.whl (60.8 MB)\n",
            "\u001b[2K   \u001b[90m━━━━━━━━━━━━━━━━━━━━━━━━━━━━━━━━━━━━━━━━\u001b[0m \u001b[32m60.8/60.8 MB\u001b[0m \u001b[31m15.5 MB/s\u001b[0m eta \u001b[36m0:00:00\u001b[0m\n",
            "\u001b[?25hDownloading pybind11-2.13.5-py3-none-any.whl (240 kB)\n",
            "\u001b[2K   \u001b[90m━━━━━━━━━━━━━━━━━━━━━━━━━━━━━━━━━━━━━━━━\u001b[0m \u001b[32m241.0/241.0 kB\u001b[0m \u001b[31m16.1 MB/s\u001b[0m eta \u001b[36m0:00:00\u001b[0m\n",
            "\u001b[?25hDownloading sounddevice-0.5.0-py3-none-any.whl (32 kB)\n",
            "Installing collected packages: pybind11, sounddevice, tflite-support\n",
            "Successfully installed pybind11-2.13.5 sounddevice-0.5.0 tflite-support-0.4.4\n",
            "Requirement already satisfied: flatbuffers in /usr/local/lib/python3.10/dist-packages (24.3.25)\n",
            "Requirement already satisfied: flatbuffers in /usr/local/lib/python3.10/dist-packages (24.3.25)\n"
          ]
        }
      ]
    },
    {
      "cell_type": "code",
      "source": [
        "# If you need specific versions:\n",
        "!pip install tensorflow==2.9.0\n",
        "!pip install tflite-support==0.4.3"
      ],
      "metadata": {
        "colab": {
          "base_uri": "https://localhost:8080/",
          "height": 1000
        },
        "id": "U0ysQ1wb7lcb",
        "outputId": "0f5adbbc-fc40-4dcc-848d-ed44fec626fc"
      },
      "execution_count": 3,
      "outputs": [
        {
          "output_type": "stream",
          "name": "stdout",
          "text": [
            "Collecting tensorflow==2.9.0\n",
            "  Downloading tensorflow-2.9.0-cp310-cp310-manylinux_2_17_x86_64.manylinux2014_x86_64.whl.metadata (3.0 kB)\n",
            "Requirement already satisfied: absl-py>=1.0.0 in /usr/local/lib/python3.10/dist-packages (from tensorflow==2.9.0) (1.4.0)\n",
            "Requirement already satisfied: astunparse>=1.6.0 in /usr/local/lib/python3.10/dist-packages (from tensorflow==2.9.0) (1.6.3)\n",
            "Collecting flatbuffers<2,>=1.12 (from tensorflow==2.9.0)\n",
            "  Downloading flatbuffers-1.12-py2.py3-none-any.whl.metadata (872 bytes)\n",
            "Collecting gast<=0.4.0,>=0.2.1 (from tensorflow==2.9.0)\n",
            "  Downloading gast-0.4.0-py3-none-any.whl.metadata (1.1 kB)\n",
            "Requirement already satisfied: google-pasta>=0.1.1 in /usr/local/lib/python3.10/dist-packages (from tensorflow==2.9.0) (0.2.0)\n",
            "Requirement already satisfied: grpcio<2.0,>=1.24.3 in /usr/local/lib/python3.10/dist-packages (from tensorflow==2.9.0) (1.64.1)\n",
            "Requirement already satisfied: h5py>=2.9.0 in /usr/local/lib/python3.10/dist-packages (from tensorflow==2.9.0) (3.11.0)\n",
            "Collecting keras<2.10.0,>=2.9.0rc0 (from tensorflow==2.9.0)\n",
            "  Downloading keras-2.9.0-py2.py3-none-any.whl.metadata (1.3 kB)\n",
            "Collecting keras-preprocessing>=1.1.1 (from tensorflow==2.9.0)\n",
            "  Downloading Keras_Preprocessing-1.1.2-py2.py3-none-any.whl.metadata (1.9 kB)\n",
            "Requirement already satisfied: libclang>=13.0.0 in /usr/local/lib/python3.10/dist-packages (from tensorflow==2.9.0) (18.1.1)\n",
            "Requirement already satisfied: numpy>=1.20 in /usr/local/lib/python3.10/dist-packages (from tensorflow==2.9.0) (1.26.4)\n",
            "Requirement already satisfied: opt-einsum>=2.3.2 in /usr/local/lib/python3.10/dist-packages (from tensorflow==2.9.0) (3.3.0)\n",
            "Requirement already satisfied: packaging in /usr/local/lib/python3.10/dist-packages (from tensorflow==2.9.0) (24.1)\n",
            "Requirement already satisfied: protobuf>=3.9.2 in /usr/local/lib/python3.10/dist-packages (from tensorflow==2.9.0) (3.20.3)\n",
            "Requirement already satisfied: setuptools in /usr/local/lib/python3.10/dist-packages (from tensorflow==2.9.0) (71.0.4)\n",
            "Requirement already satisfied: six>=1.12.0 in /usr/local/lib/python3.10/dist-packages (from tensorflow==2.9.0) (1.16.0)\n",
            "Collecting tensorboard<2.10,>=2.9 (from tensorflow==2.9.0)\n",
            "  Downloading tensorboard-2.9.1-py3-none-any.whl.metadata (1.9 kB)\n",
            "Requirement already satisfied: tensorflow-io-gcs-filesystem>=0.23.1 in /usr/local/lib/python3.10/dist-packages (from tensorflow==2.9.0) (0.37.1)\n",
            "Collecting tensorflow-estimator<2.10.0,>=2.9.0rc0 (from tensorflow==2.9.0)\n",
            "  Downloading tensorflow_estimator-2.9.0-py2.py3-none-any.whl.metadata (1.3 kB)\n",
            "Requirement already satisfied: termcolor>=1.1.0 in /usr/local/lib/python3.10/dist-packages (from tensorflow==2.9.0) (2.4.0)\n",
            "Requirement already satisfied: typing-extensions>=3.6.6 in /usr/local/lib/python3.10/dist-packages (from tensorflow==2.9.0) (4.12.2)\n",
            "Requirement already satisfied: wrapt>=1.11.0 in /usr/local/lib/python3.10/dist-packages (from tensorflow==2.9.0) (1.16.0)\n",
            "Requirement already satisfied: wheel<1.0,>=0.23.0 in /usr/local/lib/python3.10/dist-packages (from astunparse>=1.6.0->tensorflow==2.9.0) (0.44.0)\n",
            "Requirement already satisfied: google-auth<3,>=1.6.3 in /usr/local/lib/python3.10/dist-packages (from tensorboard<2.10,>=2.9->tensorflow==2.9.0) (2.27.0)\n",
            "Collecting google-auth-oauthlib<0.5,>=0.4.1 (from tensorboard<2.10,>=2.9->tensorflow==2.9.0)\n",
            "  Downloading google_auth_oauthlib-0.4.6-py2.py3-none-any.whl.metadata (2.7 kB)\n",
            "Requirement already satisfied: markdown>=2.6.8 in /usr/local/lib/python3.10/dist-packages (from tensorboard<2.10,>=2.9->tensorflow==2.9.0) (3.7)\n",
            "Collecting protobuf>=3.9.2 (from tensorflow==2.9.0)\n",
            "  Downloading protobuf-3.19.6-cp310-cp310-manylinux_2_17_x86_64.manylinux2014_x86_64.whl.metadata (787 bytes)\n",
            "Requirement already satisfied: requests<3,>=2.21.0 in /usr/local/lib/python3.10/dist-packages (from tensorboard<2.10,>=2.9->tensorflow==2.9.0) (2.32.3)\n",
            "Collecting tensorboard-data-server<0.7.0,>=0.6.0 (from tensorboard<2.10,>=2.9->tensorflow==2.9.0)\n",
            "  Downloading tensorboard_data_server-0.6.1-py3-none-manylinux2010_x86_64.whl.metadata (1.1 kB)\n",
            "Collecting tensorboard-plugin-wit>=1.6.0 (from tensorboard<2.10,>=2.9->tensorflow==2.9.0)\n",
            "  Downloading tensorboard_plugin_wit-1.8.1-py3-none-any.whl.metadata (873 bytes)\n",
            "Requirement already satisfied: werkzeug>=1.0.1 in /usr/local/lib/python3.10/dist-packages (from tensorboard<2.10,>=2.9->tensorflow==2.9.0) (3.0.4)\n",
            "Requirement already satisfied: cachetools<6.0,>=2.0.0 in /usr/local/lib/python3.10/dist-packages (from google-auth<3,>=1.6.3->tensorboard<2.10,>=2.9->tensorflow==2.9.0) (5.5.0)\n",
            "Requirement already satisfied: pyasn1-modules>=0.2.1 in /usr/local/lib/python3.10/dist-packages (from google-auth<3,>=1.6.3->tensorboard<2.10,>=2.9->tensorflow==2.9.0) (0.4.0)\n",
            "Requirement already satisfied: rsa<5,>=3.1.4 in /usr/local/lib/python3.10/dist-packages (from google-auth<3,>=1.6.3->tensorboard<2.10,>=2.9->tensorflow==2.9.0) (4.9)\n",
            "Requirement already satisfied: requests-oauthlib>=0.7.0 in /usr/local/lib/python3.10/dist-packages (from google-auth-oauthlib<0.5,>=0.4.1->tensorboard<2.10,>=2.9->tensorflow==2.9.0) (1.3.1)\n",
            "Requirement already satisfied: charset-normalizer<4,>=2 in /usr/local/lib/python3.10/dist-packages (from requests<3,>=2.21.0->tensorboard<2.10,>=2.9->tensorflow==2.9.0) (3.3.2)\n",
            "Requirement already satisfied: idna<4,>=2.5 in /usr/local/lib/python3.10/dist-packages (from requests<3,>=2.21.0->tensorboard<2.10,>=2.9->tensorflow==2.9.0) (3.8)\n",
            "Requirement already satisfied: urllib3<3,>=1.21.1 in /usr/local/lib/python3.10/dist-packages (from requests<3,>=2.21.0->tensorboard<2.10,>=2.9->tensorflow==2.9.0) (2.0.7)\n",
            "Requirement already satisfied: certifi>=2017.4.17 in /usr/local/lib/python3.10/dist-packages (from requests<3,>=2.21.0->tensorboard<2.10,>=2.9->tensorflow==2.9.0) (2024.7.4)\n",
            "Requirement already satisfied: MarkupSafe>=2.1.1 in /usr/local/lib/python3.10/dist-packages (from werkzeug>=1.0.1->tensorboard<2.10,>=2.9->tensorflow==2.9.0) (2.1.5)\n",
            "Requirement already satisfied: pyasn1<0.7.0,>=0.4.6 in /usr/local/lib/python3.10/dist-packages (from pyasn1-modules>=0.2.1->google-auth<3,>=1.6.3->tensorboard<2.10,>=2.9->tensorflow==2.9.0) (0.6.0)\n",
            "Requirement already satisfied: oauthlib>=3.0.0 in /usr/local/lib/python3.10/dist-packages (from requests-oauthlib>=0.7.0->google-auth-oauthlib<0.5,>=0.4.1->tensorboard<2.10,>=2.9->tensorflow==2.9.0) (3.2.2)\n",
            "Downloading tensorflow-2.9.0-cp310-cp310-manylinux_2_17_x86_64.manylinux2014_x86_64.whl (511.7 MB)\n",
            "\u001b[2K   \u001b[90m━━━━━━━━━━━━━━━━━━━━━━━━━━━━━━━━━━━━━━━━\u001b[0m \u001b[32m511.7/511.7 MB\u001b[0m \u001b[31m3.9 MB/s\u001b[0m eta \u001b[36m0:00:00\u001b[0m\n",
            "\u001b[?25hDownloading flatbuffers-1.12-py2.py3-none-any.whl (15 kB)\n",
            "Downloading gast-0.4.0-py3-none-any.whl (9.8 kB)\n",
            "Downloading keras-2.9.0-py2.py3-none-any.whl (1.6 MB)\n",
            "\u001b[2K   \u001b[90m━━━━━━━━━━━━━━━━━━━━━━━━━━━━━━━━━━━━━━━━\u001b[0m \u001b[32m1.6/1.6 MB\u001b[0m \u001b[31m53.5 MB/s\u001b[0m eta \u001b[36m0:00:00\u001b[0m\n",
            "\u001b[?25hDownloading Keras_Preprocessing-1.1.2-py2.py3-none-any.whl (42 kB)\n",
            "\u001b[2K   \u001b[90m━━━━━━━━━━━━━━━━━━━━━━━━━━━━━━━━━━━━━━━━\u001b[0m \u001b[32m42.6/42.6 kB\u001b[0m \u001b[31m2.2 MB/s\u001b[0m eta \u001b[36m0:00:00\u001b[0m\n",
            "\u001b[?25hDownloading tensorboard-2.9.1-py3-none-any.whl (5.8 MB)\n",
            "\u001b[2K   \u001b[90m━━━━━━━━━━━━━━━━━━━━━━━━━━━━━━━━━━━━━━━━\u001b[0m \u001b[32m5.8/5.8 MB\u001b[0m \u001b[31m62.9 MB/s\u001b[0m eta \u001b[36m0:00:00\u001b[0m\n",
            "\u001b[?25hDownloading protobuf-3.19.6-cp310-cp310-manylinux_2_17_x86_64.manylinux2014_x86_64.whl (1.1 MB)\n",
            "\u001b[2K   \u001b[90m━━━━━━━━━━━━━━━━━━━━━━━━━━━━━━━━━━━━━━━━\u001b[0m \u001b[32m1.1/1.1 MB\u001b[0m \u001b[31m41.5 MB/s\u001b[0m eta \u001b[36m0:00:00\u001b[0m\n",
            "\u001b[?25hDownloading tensorflow_estimator-2.9.0-py2.py3-none-any.whl (438 kB)\n",
            "\u001b[2K   \u001b[90m━━━━━━━━━━━━━━━━━━━━━━━━━━━━━━━━━━━━━━━━\u001b[0m \u001b[32m438.7/438.7 kB\u001b[0m \u001b[31m23.2 MB/s\u001b[0m eta \u001b[36m0:00:00\u001b[0m\n",
            "\u001b[?25hDownloading google_auth_oauthlib-0.4.6-py2.py3-none-any.whl (18 kB)\n",
            "Downloading tensorboard_data_server-0.6.1-py3-none-manylinux2010_x86_64.whl (4.9 MB)\n",
            "\u001b[2K   \u001b[90m━━━━━━━━━━━━━━━━━━━━━━━━━━━━━━━━━━━━━━━━\u001b[0m \u001b[32m4.9/4.9 MB\u001b[0m \u001b[31m47.5 MB/s\u001b[0m eta \u001b[36m0:00:00\u001b[0m\n",
            "\u001b[?25hDownloading tensorboard_plugin_wit-1.8.1-py3-none-any.whl (781 kB)\n",
            "\u001b[2K   \u001b[90m━━━━━━━━━━━━━━━━━━━━━━━━━━━━━━━━━━━━━━━━\u001b[0m \u001b[32m781.3/781.3 kB\u001b[0m \u001b[31m27.0 MB/s\u001b[0m eta \u001b[36m0:00:00\u001b[0m\n",
            "\u001b[?25hInstalling collected packages: tensorboard-plugin-wit, keras, flatbuffers, tensorflow-estimator, tensorboard-data-server, protobuf, keras-preprocessing, gast, google-auth-oauthlib, tensorboard, tensorflow\n",
            "  Attempting uninstall: keras\n",
            "    Found existing installation: keras 3.4.1\n",
            "    Uninstalling keras-3.4.1:\n",
            "      Successfully uninstalled keras-3.4.1\n",
            "  Attempting uninstall: flatbuffers\n",
            "    Found existing installation: flatbuffers 24.3.25\n",
            "    Uninstalling flatbuffers-24.3.25:\n",
            "      Successfully uninstalled flatbuffers-24.3.25\n",
            "  Attempting uninstall: tensorboard-data-server\n",
            "    Found existing installation: tensorboard-data-server 0.7.2\n",
            "    Uninstalling tensorboard-data-server-0.7.2:\n",
            "      Successfully uninstalled tensorboard-data-server-0.7.2\n",
            "  Attempting uninstall: protobuf\n",
            "    Found existing installation: protobuf 3.20.3\n",
            "    Uninstalling protobuf-3.20.3:\n",
            "      Successfully uninstalled protobuf-3.20.3\n",
            "  Attempting uninstall: gast\n",
            "    Found existing installation: gast 0.6.0\n",
            "    Uninstalling gast-0.6.0:\n",
            "      Successfully uninstalled gast-0.6.0\n",
            "  Attempting uninstall: google-auth-oauthlib\n",
            "    Found existing installation: google-auth-oauthlib 1.2.1\n",
            "    Uninstalling google-auth-oauthlib-1.2.1:\n",
            "      Successfully uninstalled google-auth-oauthlib-1.2.1\n",
            "  Attempting uninstall: tensorboard\n",
            "    Found existing installation: tensorboard 2.17.0\n",
            "    Uninstalling tensorboard-2.17.0:\n",
            "      Successfully uninstalled tensorboard-2.17.0\n",
            "  Attempting uninstall: tensorflow\n",
            "    Found existing installation: tensorflow 2.17.0\n",
            "    Uninstalling tensorflow-2.17.0:\n",
            "      Successfully uninstalled tensorflow-2.17.0\n",
            "\u001b[31mERROR: pip's dependency resolver does not currently take into account all the packages that are installed. This behaviour is the source of the following dependency conflicts.\n",
            "cudf-cu12 24.4.1 requires protobuf<5,>=3.20, but you have protobuf 3.19.6 which is incompatible.\n",
            "google-cloud-aiplatform 1.63.0 requires protobuf!=4.21.0,!=4.21.1,!=4.21.2,!=4.21.3,!=4.21.4,!=4.21.5,<6.0.0dev,>=3.20.2, but you have protobuf 3.19.6 which is incompatible.\n",
            "google-cloud-bigquery-connection 1.15.5 requires protobuf!=4.21.0,!=4.21.1,!=4.21.2,!=4.21.3,!=4.21.4,!=4.21.5,<6.0.0dev,>=3.20.2, but you have protobuf 3.19.6 which is incompatible.\n",
            "google-cloud-bigtable 2.26.0 requires protobuf!=4.21.0,!=4.21.1,!=4.21.2,!=4.21.3,!=4.21.4,!=4.21.5,<6.0.0dev,>=3.20.2, but you have protobuf 3.19.6 which is incompatible.\n",
            "google-cloud-functions 1.16.5 requires protobuf!=4.21.0,!=4.21.1,!=4.21.2,!=4.21.3,!=4.21.4,!=4.21.5,<6.0.0dev,>=3.20.2, but you have protobuf 3.19.6 which is incompatible.\n",
            "google-cloud-iam 2.15.2 requires protobuf!=4.21.0,!=4.21.1,!=4.21.2,!=4.21.3,!=4.21.4,!=4.21.5,<6.0.0dev,>=3.20.2, but you have protobuf 3.19.6 which is incompatible.\n",
            "google-cloud-language 2.13.4 requires protobuf!=4.21.0,!=4.21.1,!=4.21.2,!=4.21.3,!=4.21.4,!=4.21.5,<6.0.0dev,>=3.20.2, but you have protobuf 3.19.6 which is incompatible.\n",
            "google-cloud-pubsub 2.23.0 requires protobuf!=4.21.0,!=4.21.1,!=4.21.2,!=4.21.3,!=4.21.4,!=4.21.5,<6.0.0dev,>=3.20.2, but you have protobuf 3.19.6 which is incompatible.\n",
            "google-cloud-resource-manager 1.12.5 requires protobuf!=4.21.0,!=4.21.1,!=4.21.2,!=4.21.3,!=4.21.4,!=4.21.5,<6.0.0dev,>=3.20.2, but you have protobuf 3.19.6 which is incompatible.\n",
            "google-cloud-translate 3.15.5 requires protobuf!=4.21.0,!=4.21.1,!=4.21.2,!=4.21.3,!=4.21.4,!=4.21.5,<6.0.0dev,>=3.20.2, but you have protobuf 3.19.6 which is incompatible.\n",
            "googleapis-common-protos 1.64.0 requires protobuf!=3.20.0,!=3.20.1,!=4.21.1,!=4.21.2,!=4.21.3,!=4.21.4,!=4.21.5,<6.0.0.dev0,>=3.20.2, but you have protobuf 3.19.6 which is incompatible.\n",
            "grpc-google-iam-v1 0.13.1 requires protobuf!=4.21.1,!=4.21.2,!=4.21.3,!=4.21.4,!=4.21.5,<6.0.0dev,>=3.20.2, but you have protobuf 3.19.6 which is incompatible.\n",
            "pandas-gbq 0.23.1 requires google-auth-oauthlib>=0.7.0, but you have google-auth-oauthlib 0.4.6 which is incompatible.\n",
            "tensorflow-datasets 4.9.6 requires protobuf>=3.20, but you have protobuf 3.19.6 which is incompatible.\n",
            "tensorflow-metadata 1.15.0 requires protobuf<4.21,>=3.20.3; python_version < \"3.11\", but you have protobuf 3.19.6 which is incompatible.\n",
            "tf-keras 2.17.0 requires tensorflow<2.18,>=2.17, but you have tensorflow 2.9.0 which is incompatible.\n",
            "tflite-support 0.4.4 requires flatbuffers>=2.0, but you have flatbuffers 1.12 which is incompatible.\u001b[0m\u001b[31m\n",
            "\u001b[0mSuccessfully installed flatbuffers-1.12 gast-0.4.0 google-auth-oauthlib-0.4.6 keras-2.9.0 keras-preprocessing-1.1.2 protobuf-3.19.6 tensorboard-2.9.1 tensorboard-data-server-0.6.1 tensorboard-plugin-wit-1.8.1 tensorflow-2.9.0 tensorflow-estimator-2.9.0\n"
          ]
        },
        {
          "output_type": "display_data",
          "data": {
            "application/vnd.colab-display-data+json": {
              "pip_warning": {
                "packages": [
                  "google"
                ]
              },
              "id": "6a41169b9f824ba98eeb50bd98f635f3"
            }
          },
          "metadata": {}
        },
        {
          "output_type": "stream",
          "name": "stdout",
          "text": [
            "\u001b[31mERROR: Could not find a version that satisfies the requirement tflite-support==0.4.3 (from versions: 0.1.0a0.dev3, 0.1.0a0.dev4, 0.1.0a0.dev5, 0.1.0a0, 0.1.0a1, 0.4.4)\u001b[0m\u001b[31m\n",
            "\u001b[0m\u001b[31mERROR: No matching distribution found for tflite-support==0.4.3\u001b[0m\u001b[31m\n",
            "\u001b[0m"
          ]
        }
      ]
    },
    {
      "cell_type": "markdown",
      "source": [
        "## **Importing the Necessary Libraries**\n",
        "\n",
        "import pandas as pd: Pandas is used for data manipulation and analysis. It's particularly helpful for handling structured data and performing operations like reading data from files, cleaning it, and preparing it for model training.\n",
        "\n",
        "from sklearn.preprocessing import OneHotEncoder: OneHotEncoder is a tool from scikit-learn used to convert categorical data into a format that can be provided to machine learning algorithms, usually as a one-hot encoded matrix.\n",
        "\n",
        "import tensorflow as tf: TensorFlow is the core machine learning framework used for building and training neural networks. It provides a comprehensive ecosystem for developing machine learning models.\n",
        "\n",
        "from tensorflow.keras.models import Sequential: Sequential is a Keras API within TensorFlow that allows you to build a neural network model layer by layer. It’s simple and suitable for creating straightforward models.\n",
        "\n",
        "from tensorflow.keras.layers import Dense, Dropout: Dense is a fully connected layer, commonly used in neural networks. Dropout is a regularization technique used to prevent overfitting by randomly setting a fraction of input units to zero during training.\n",
        "\n",
        "from google.colab import files: This is specific to Google Colab and is used for handling file uploads and downloads within a Colab notebook, making it easier to interact with files in the Colab environment.\n",
        "\n",
        "from tflite_support.metadata_writers import image_classifier, writer_utils: These imports are used for working with TensorFlow Lite models, specifically for writing metadata that helps describe the input and output tensor details of an image classification model. This is crucial for deploying models on edge devices where TensorFlow Lite is commonly used.\n",
        "\n"
      ],
      "metadata": {
        "id": "jUDGVzwyx3J1"
      }
    },
    {
      "cell_type": "code",
      "source": [
        "# Step 2: Import Necessary Libraries\n",
        "import pandas as pd\n",
        "from sklearn.preprocessing import OneHotEncoder\n",
        "import tensorflow as tf\n",
        "from tensorflow.keras.models import Sequential\n",
        "from tensorflow.keras.layers import Dense, Dropout\n",
        "from google.colab import files\n",
        "from tflite_support.metadata_writers import image_classifier, writer_utils # Import after restarting runtime"
      ],
      "metadata": {
        "id": "AXRpyYdz7NpL"
      },
      "execution_count": 4,
      "outputs": []
    },
    {
      "cell_type": "markdown",
      "source": [
        "## **Importing the Combined Dataset**\n",
        "\n",
        "The \"Food Ingredients & Allergens\", \"[Augmented] Food Ingredients and Allergens\", \"[Original] Food Ingredients and Allergens\", and \"_classes\" datasets were uploaded as a .csv file in our [GitHub repository](https://github.com/KPrince-coder/allecheq)."
      ],
      "metadata": {
        "id": "KIq4S25oziVu"
      }
    },
    {
      "cell_type": "code",
      "execution_count": 5,
      "metadata": {
        "colab": {
          "base_uri": "https://localhost:8080/",
          "height": 199
        },
        "id": "coIRDXlYA2er",
        "outputId": "30f9085d-869b-4489-9551-e0ea80bc3aa3"
      },
      "outputs": [
        {
          "output_type": "display_data",
          "data": {
            "text/plain": [
              "<IPython.core.display.HTML object>"
            ],
            "text/html": [
              "\n",
              "     <input type=\"file\" id=\"files-a21625b0-046e-44a5-aa99-c34dd2e3973c\" name=\"files[]\" multiple disabled\n",
              "        style=\"border:none\" />\n",
              "     <output id=\"result-a21625b0-046e-44a5-aa99-c34dd2e3973c\">\n",
              "      Upload widget is only available when the cell has been executed in the\n",
              "      current browser session. Please rerun this cell to enable.\n",
              "      </output>\n",
              "      <script>// Copyright 2017 Google LLC\n",
              "//\n",
              "// Licensed under the Apache License, Version 2.0 (the \"License\");\n",
              "// you may not use this file except in compliance with the License.\n",
              "// You may obtain a copy of the License at\n",
              "//\n",
              "//      http://www.apache.org/licenses/LICENSE-2.0\n",
              "//\n",
              "// Unless required by applicable law or agreed to in writing, software\n",
              "// distributed under the License is distributed on an \"AS IS\" BASIS,\n",
              "// WITHOUT WARRANTIES OR CONDITIONS OF ANY KIND, either express or implied.\n",
              "// See the License for the specific language governing permissions and\n",
              "// limitations under the License.\n",
              "\n",
              "/**\n",
              " * @fileoverview Helpers for google.colab Python module.\n",
              " */\n",
              "(function(scope) {\n",
              "function span(text, styleAttributes = {}) {\n",
              "  const element = document.createElement('span');\n",
              "  element.textContent = text;\n",
              "  for (const key of Object.keys(styleAttributes)) {\n",
              "    element.style[key] = styleAttributes[key];\n",
              "  }\n",
              "  return element;\n",
              "}\n",
              "\n",
              "// Max number of bytes which will be uploaded at a time.\n",
              "const MAX_PAYLOAD_SIZE = 100 * 1024;\n",
              "\n",
              "function _uploadFiles(inputId, outputId) {\n",
              "  const steps = uploadFilesStep(inputId, outputId);\n",
              "  const outputElement = document.getElementById(outputId);\n",
              "  // Cache steps on the outputElement to make it available for the next call\n",
              "  // to uploadFilesContinue from Python.\n",
              "  outputElement.steps = steps;\n",
              "\n",
              "  return _uploadFilesContinue(outputId);\n",
              "}\n",
              "\n",
              "// This is roughly an async generator (not supported in the browser yet),\n",
              "// where there are multiple asynchronous steps and the Python side is going\n",
              "// to poll for completion of each step.\n",
              "// This uses a Promise to block the python side on completion of each step,\n",
              "// then passes the result of the previous step as the input to the next step.\n",
              "function _uploadFilesContinue(outputId) {\n",
              "  const outputElement = document.getElementById(outputId);\n",
              "  const steps = outputElement.steps;\n",
              "\n",
              "  const next = steps.next(outputElement.lastPromiseValue);\n",
              "  return Promise.resolve(next.value.promise).then((value) => {\n",
              "    // Cache the last promise value to make it available to the next\n",
              "    // step of the generator.\n",
              "    outputElement.lastPromiseValue = value;\n",
              "    return next.value.response;\n",
              "  });\n",
              "}\n",
              "\n",
              "/**\n",
              " * Generator function which is called between each async step of the upload\n",
              " * process.\n",
              " * @param {string} inputId Element ID of the input file picker element.\n",
              " * @param {string} outputId Element ID of the output display.\n",
              " * @return {!Iterable<!Object>} Iterable of next steps.\n",
              " */\n",
              "function* uploadFilesStep(inputId, outputId) {\n",
              "  const inputElement = document.getElementById(inputId);\n",
              "  inputElement.disabled = false;\n",
              "\n",
              "  const outputElement = document.getElementById(outputId);\n",
              "  outputElement.innerHTML = '';\n",
              "\n",
              "  const pickedPromise = new Promise((resolve) => {\n",
              "    inputElement.addEventListener('change', (e) => {\n",
              "      resolve(e.target.files);\n",
              "    });\n",
              "  });\n",
              "\n",
              "  const cancel = document.createElement('button');\n",
              "  inputElement.parentElement.appendChild(cancel);\n",
              "  cancel.textContent = 'Cancel upload';\n",
              "  const cancelPromise = new Promise((resolve) => {\n",
              "    cancel.onclick = () => {\n",
              "      resolve(null);\n",
              "    };\n",
              "  });\n",
              "\n",
              "  // Wait for the user to pick the files.\n",
              "  const files = yield {\n",
              "    promise: Promise.race([pickedPromise, cancelPromise]),\n",
              "    response: {\n",
              "      action: 'starting',\n",
              "    }\n",
              "  };\n",
              "\n",
              "  cancel.remove();\n",
              "\n",
              "  // Disable the input element since further picks are not allowed.\n",
              "  inputElement.disabled = true;\n",
              "\n",
              "  if (!files) {\n",
              "    return {\n",
              "      response: {\n",
              "        action: 'complete',\n",
              "      }\n",
              "    };\n",
              "  }\n",
              "\n",
              "  for (const file of files) {\n",
              "    const li = document.createElement('li');\n",
              "    li.append(span(file.name, {fontWeight: 'bold'}));\n",
              "    li.append(span(\n",
              "        `(${file.type || 'n/a'}) - ${file.size} bytes, ` +\n",
              "        `last modified: ${\n",
              "            file.lastModifiedDate ? file.lastModifiedDate.toLocaleDateString() :\n",
              "                                    'n/a'} - `));\n",
              "    const percent = span('0% done');\n",
              "    li.appendChild(percent);\n",
              "\n",
              "    outputElement.appendChild(li);\n",
              "\n",
              "    const fileDataPromise = new Promise((resolve) => {\n",
              "      const reader = new FileReader();\n",
              "      reader.onload = (e) => {\n",
              "        resolve(e.target.result);\n",
              "      };\n",
              "      reader.readAsArrayBuffer(file);\n",
              "    });\n",
              "    // Wait for the data to be ready.\n",
              "    let fileData = yield {\n",
              "      promise: fileDataPromise,\n",
              "      response: {\n",
              "        action: 'continue',\n",
              "      }\n",
              "    };\n",
              "\n",
              "    // Use a chunked sending to avoid message size limits. See b/62115660.\n",
              "    let position = 0;\n",
              "    do {\n",
              "      const length = Math.min(fileData.byteLength - position, MAX_PAYLOAD_SIZE);\n",
              "      const chunk = new Uint8Array(fileData, position, length);\n",
              "      position += length;\n",
              "\n",
              "      const base64 = btoa(String.fromCharCode.apply(null, chunk));\n",
              "      yield {\n",
              "        response: {\n",
              "          action: 'append',\n",
              "          file: file.name,\n",
              "          data: base64,\n",
              "        },\n",
              "      };\n",
              "\n",
              "      let percentDone = fileData.byteLength === 0 ?\n",
              "          100 :\n",
              "          Math.round((position / fileData.byteLength) * 100);\n",
              "      percent.textContent = `${percentDone}% done`;\n",
              "\n",
              "    } while (position < fileData.byteLength);\n",
              "  }\n",
              "\n",
              "  // All done.\n",
              "  yield {\n",
              "    response: {\n",
              "      action: 'complete',\n",
              "    }\n",
              "  };\n",
              "}\n",
              "\n",
              "scope.google = scope.google || {};\n",
              "scope.google.colab = scope.google.colab || {};\n",
              "scope.google.colab._files = {\n",
              "  _uploadFiles,\n",
              "  _uploadFilesContinue,\n",
              "};\n",
              "})(self);\n",
              "</script> "
            ]
          },
          "metadata": {}
        },
        {
          "output_type": "stream",
          "name": "stdout",
          "text": [
            "Saving _classes.csv to _classes.csv\n",
            "Saving [Augmented] Food Ingredients and Allergens.csv to [Augmented] Food Ingredients and Allergens.csv\n",
            "Saving [Original] Food Ingredients and Allergens.csv to [Original] Food Ingredients and Allergens.csv\n",
            "Saving food_ingredients_and_allergens 4.44.59 PM.csv to food_ingredients_and_allergens 4.44.59 PM.csv\n"
          ]
        }
      ],
      "source": [
        "from google.colab import files\n",
        "\n",
        "uploaded = files.upload()"
      ]
    },
    {
      "cell_type": "markdown",
      "source": [
        "# **Load CSV files into Pandas DataFrames**\n",
        "\n",
        "Four Pandas DataFrames are created, each containing the data from the respective CSV files. These DataFrames can now be used for various data analysis tasks, such as exploring the data, cleaning and preprocessing it, and performing statistical calculations or machine learning models."
      ],
      "metadata": {
        "id": "cPsMbhlV5PhZ"
      }
    },
    {
      "cell_type": "code",
      "source": [
        "classes_df = pd.read_csv('/content/_classes.csv')\n",
        "augmented_df = pd.read_csv('/content/[Augmented] Food Ingredients and Allergens.csv')\n",
        "food_ingredients_df = pd.read_csv('/content/food_ingredients_and_allergens 4.44.59 PM.csv')\n",
        "original_df = pd.read_csv('/content/[Original] Food Ingredients and Allergens.csv')"
      ],
      "metadata": {
        "id": "2wY5rnSOuazI"
      },
      "execution_count": 6,
      "outputs": []
    },
    {
      "cell_type": "markdown",
      "source": [
        "## **Data Preprocessing**\n",
        "These preprocessing steps involve extracting and preparing identifier columns from filenames and food product names then merges multiple datasets and cleans up the resulting DataFrame, and ensure that the datasets are properly combined and extraneous columns are removed for a streamlined dataset ready for further analysis."
      ],
      "metadata": {
        "id": "iSiEfR4v8DfD"
      }
    },
    {
      "cell_type": "code",
      "source": [
        "# Extracting common identifiers from filenames in classes_df\n",
        "classes_df['identifier'] = classes_df['filename'].apply(lambda x: x.split('_')[0])"
      ],
      "metadata": {
        "id": "eYIxy92rwTn8"
      },
      "execution_count": 7,
      "outputs": []
    },
    {
      "cell_type": "code",
      "source": [
        "# Convert the 'Food Product' column to string type before applying split\n",
        "augmented_df['Food Product'] = augmented_df['Food Product'].astype(str)\n",
        "food_ingredients_df['Food Product'] = food_ingredients_df['Food Product'].astype(str)\n",
        "original_df['Food Product'] = original_df['Food Product'].astype(str)"
      ],
      "metadata": {
        "id": "C6kvzMJXwaOk"
      },
      "execution_count": 8,
      "outputs": []
    },
    {
      "cell_type": "code",
      "source": [
        "# Preparing identifiers for the other datasets based on food products\n",
        "augmented_df['identifier'] = augmented_df['Food Product'].apply(lambda x: x.split()[0])\n",
        "food_ingredients_df['identifier'] = food_ingredients_df['Food Product'].apply(lambda x: x.split()[0])\n",
        "original_df['identifier'] = original_df['Food Product'].apply(lambda x: x.split()[0])"
      ],
      "metadata": {
        "id": "Z1GZZU9Vwe4v"
      },
      "execution_count": 9,
      "outputs": []
    },
    {
      "cell_type": "code",
      "source": [
        "# Merging datasets\n",
        "merged_df = classes_df.merge(augmented_df, on='identifier', how='inner')\n",
        "merged_df = merged_df.merge(food_ingredients_df, on='identifier', suffixes=('_augmented', '_original'), how='inner')\n",
        "merged_df = merged_df.merge(original_df, on='identifier', suffixes=('_merged', '_original'), how='inner') # Use '_merged' suffix here\n"
      ],
      "metadata": {
        "id": "IDSiyLCXwnWS"
      },
      "execution_count": 10,
      "outputs": []
    },
    {
      "cell_type": "code",
      "source": [
        "# Inspect the columns of the merged DataFrame\n",
        "print(\"Columns in merged_df:\", merged_df.columns)"
      ],
      "metadata": {
        "colab": {
          "base_uri": "https://localhost:8080/"
        },
        "id": "fTznrXt9wr-q",
        "outputId": "3a696af8-8f3f-49f9-b24e-7dbce01c702f"
      },
      "execution_count": 11,
      "outputs": [
        {
          "output_type": "stream",
          "name": "stdout",
          "text": [
            "Columns in merged_df: Index(['filename', ' Fish_cake', ' Kimbab_Ham', ' Lotus_root', ' Perilla_leaf',\n",
            "       ' White_Mushroom', ' anchovy', ' asparagus', ' avocado', ' bacon',\n",
            "       ' bacon_sprouts', ' bean', ' bean_sprouts', ' beef', ' beet',\n",
            "       ' bok_choy', ' broccoli', ' burdock', ' calamari', ' canned_saury',\n",
            "       ' canned_tuna', ' carrot', ' cheese', ' chicken', ' chives', ' cockle',\n",
            "       ' corn', ' crab', ' cucumber', ' curcuma', ' duck_meat', ' dumpling',\n",
            "       ' egg', ' egg_plant', ' enoki_mushroom', ' fan_mussel', ' ginseng',\n",
            "       ' green_onion', ' hairtail', ' kimchi', ' lamb_ribs', ' mackerel',\n",
            "       ' meat_for_soup', ' milk', ' napa_cabbage', ' nurungji', ' onion',\n",
            "       ' oyster', ' oyster_mushroom', ' paprika', ' pasta_noodles', ' pickle',\n",
            "       ' pork', ' potato', ' radish', ' raw_ribs', ' rice_cake', ' salmon',\n",
            "       ' sausage', ' scallop', ' seaweed', ' spam', ' squash', ' sweet_potato',\n",
            "       ' tomato', ' tomato_sauce', ' water_parsley', 'identifier',\n",
            "       'Food Product_augmented', 'Main Ingredient_augmented',\n",
            "       'Sweetener_augmented', 'Fat/Oil_augmented', 'Seasoning_augmented',\n",
            "       'Allergens_augmented', 'Prediction_augmented', 'Food Product_original',\n",
            "       'Main Ingredient_original', 'Sweetener_original', 'Fat/Oil_original',\n",
            "       'Seasoning_original', 'Allergens_original', 'Prediction_original',\n",
            "       'Food Product', 'Main Ingredient', 'Sweetener', 'Fat/Oil', 'Seasoning',\n",
            "       'Allergens', 'Prediction'],\n",
            "      dtype='object')\n"
          ]
        }
      ]
    },
    {
      "cell_type": "code",
      "source": [
        "# Adjust the columns_to_drop list\n",
        "columns_to_drop = [\n",
        "    'filename', 'identifier',\n",
        "    'Food Product_merged',\n",
        "    'Main Ingredient_merged', 'Sweetener_merged', 'Fat/Oil_merged',\n",
        "    'Seasoning_merged', 'Allergens_merged', 'Prediction_merged',\n",
        "    'Food Product_original', 'Main Ingredient_original', 'Sweetener_original',\n",
        "    'Fat/Oil_original', 'Seasoning_original', 'Allergens_original', 'Prediction_original'\n",
        "]\n",
        "merged_df_cleaned = merged_df.drop(columns=columns_to_drop, errors='ignore')"
      ],
      "metadata": {
        "id": "-krWAwvbwy3K"
      },
      "execution_count": 12,
      "outputs": []
    },
    {
      "cell_type": "code",
      "source": [
        "# Inspect the columns of the cleaned merged DataFrame\n",
        "print(\"Columns in merged_df_cleaned:\", merged_df_cleaned.columns)"
      ],
      "metadata": {
        "colab": {
          "base_uri": "https://localhost:8080/"
        },
        "id": "ERCRzyLpw33k",
        "outputId": "508074b6-c559-441c-abd7-e2d602803423"
      },
      "execution_count": 13,
      "outputs": [
        {
          "output_type": "stream",
          "name": "stdout",
          "text": [
            "Columns in merged_df_cleaned: Index([' Fish_cake', ' Kimbab_Ham', ' Lotus_root', ' Perilla_leaf',\n",
            "       ' White_Mushroom', ' anchovy', ' asparagus', ' avocado', ' bacon',\n",
            "       ' bacon_sprouts', ' bean', ' bean_sprouts', ' beef', ' beet',\n",
            "       ' bok_choy', ' broccoli', ' burdock', ' calamari', ' canned_saury',\n",
            "       ' canned_tuna', ' carrot', ' cheese', ' chicken', ' chives', ' cockle',\n",
            "       ' corn', ' crab', ' cucumber', ' curcuma', ' duck_meat', ' dumpling',\n",
            "       ' egg', ' egg_plant', ' enoki_mushroom', ' fan_mussel', ' ginseng',\n",
            "       ' green_onion', ' hairtail', ' kimchi', ' lamb_ribs', ' mackerel',\n",
            "       ' meat_for_soup', ' milk', ' napa_cabbage', ' nurungji', ' onion',\n",
            "       ' oyster', ' oyster_mushroom', ' paprika', ' pasta_noodles', ' pickle',\n",
            "       ' pork', ' potato', ' radish', ' raw_ribs', ' rice_cake', ' salmon',\n",
            "       ' sausage', ' scallop', ' seaweed', ' spam', ' squash', ' sweet_potato',\n",
            "       ' tomato', ' tomato_sauce', ' water_parsley', 'Food Product_augmented',\n",
            "       'Main Ingredient_augmented', 'Sweetener_augmented', 'Fat/Oil_augmented',\n",
            "       'Seasoning_augmented', 'Allergens_augmented', 'Prediction_augmented',\n",
            "       'Food Product', 'Main Ingredient', 'Sweetener', 'Fat/Oil', 'Seasoning',\n",
            "       'Allergens', 'Prediction'],\n",
            "      dtype='object')\n"
          ]
        }
      ]
    },
    {
      "cell_type": "code",
      "source": [
        "# Adjust the categorical columns based on actual columns present\n",
        "categorical_columns = [\n",
        "    'Food Product_augmented', 'Main Ingredient_augmented',\n",
        "    'Sweetener_augmented', 'Fat/Oil_augmented', 'Seasoning_augmented',\n",
        "    'Allergens_augmented'\n",
        "]"
      ],
      "metadata": {
        "id": "3RsQHwWXxCVE"
      },
      "execution_count": 14,
      "outputs": []
    },
    {
      "cell_type": "code",
      "source": [
        "# Ensure all columns in categorical_columns are present\n",
        "categorical_columns = [col for col in categorical_columns if col in merged_df_cleaned.columns]\n"
      ],
      "metadata": {
        "id": "pQxHxbfexJ3R"
      },
      "execution_count": 15,
      "outputs": []
    },
    {
      "cell_type": "code",
      "source": [
        "# One-hot encoding for categorical columns\n",
        "one_hot_encoder = OneHotEncoder(sparse=False, handle_unknown='ignore')\n",
        "encoded_categorical = one_hot_encoder.fit_transform(merged_df_cleaned[categorical_columns])\n",
        "encoded_categorical_df = pd.DataFrame(encoded_categorical, columns=one_hot_encoder.get_feature_names_out(categorical_columns))"
      ],
      "metadata": {
        "colab": {
          "base_uri": "https://localhost:8080/"
        },
        "id": "-Uuw0NX_xPys",
        "outputId": "f7fecfc7-731c-42bf-b0a9-48bcc0a5f2e1"
      },
      "execution_count": 16,
      "outputs": [
        {
          "output_type": "stream",
          "name": "stderr",
          "text": [
            "/usr/local/lib/python3.10/dist-packages/sklearn/preprocessing/_encoders.py:975: FutureWarning: `sparse` was renamed to `sparse_output` in version 1.2 and will be removed in 1.4. `sparse_output` is ignored unless you leave `sparse` to its default value.\n",
            "  warnings.warn(\n"
          ]
        }
      ]
    },
    {
      "cell_type": "code",
      "source": [
        "# Combining the encoded categorical data with the rest of the numerical data\n",
        "merged_df_final = pd.concat([merged_df_cleaned.drop(columns=categorical_columns), encoded_categorical_df], axis=1)"
      ],
      "metadata": {
        "id": "3yLBdKlgxW7y"
      },
      "execution_count": 17,
      "outputs": []
    },
    {
      "cell_type": "code",
      "source": [
        "# Check if the target column exists in the dataframe before one-hot encoding\n",
        "if 'Prediction_augmented' not in merged_df_cleaned.columns:\n",
        "    raise ValueError(\"The target label column 'Prediction_augmented_Contains' is missing from merged_df_cleaned.\")"
      ],
      "metadata": {
        "id": "hQBbKItRxbN-"
      },
      "execution_count": 18,
      "outputs": []
    },
    {
      "cell_type": "code",
      "source": [
        "# One-hot encoding for categorical columns\n",
        "one_hot_encoder = OneHotEncoder(sparse=False, handle_unknown='ignore')\n",
        "encoded_categorical = one_hot_encoder.fit_transform(merged_df_cleaned[categorical_columns])\n",
        "encoded_categorical_df = pd.DataFrame(encoded_categorical, columns=one_hot_encoder.get_feature_names_out(categorical_columns))\n",
        "\n",
        "# Combining the encoded categorical data with the rest of the numerical data\n",
        "merged_df_final = pd.concat([merged_df_cleaned.drop(columns=categorical_columns), encoded_categorical_df], axis=1)\n",
        "\n",
        "# Preparing input (X) and output (y) arrays\n",
        "# Ensure the label column exists in the final dataframe\n",
        "if 'Prediction_augmented' in merged_df_final.columns:\n",
        "  # Explicitly select only numerical columns for X\n",
        "    numerical_columns = merged_df_final.select_dtypes(include=['number']).columns  # Identify numerical columns\n",
        "    X = merged_df_final[numerical_columns].drop(columns=['Prediction_augmented'], errors='ignore').values  # Select numerical columns, excluding the target\n",
        "    y = merged_df_final['Prediction_augmented'].values\n",
        "else:\n",
        "    raise ValueError(\"The target label column 'Prediction_augmented' is missing.\")\n",
        "\n"
      ],
      "metadata": {
        "colab": {
          "base_uri": "https://localhost:8080/"
        },
        "id": "lnZ_ZQNn715-",
        "outputId": "a24c460e-d904-4070-b174-3fb8e143c377"
      },
      "execution_count": 19,
      "outputs": [
        {
          "output_type": "stream",
          "name": "stderr",
          "text": [
            "/usr/local/lib/python3.10/dist-packages/sklearn/preprocessing/_encoders.py:975: FutureWarning: `sparse` was renamed to `sparse_output` in version 1.2 and will be removed in 1.4. `sparse_output` is ignored unless you leave `sparse` to its default value.\n",
            "  warnings.warn(\n"
          ]
        }
      ]
    },
    {
      "cell_type": "code",
      "source": [
        "# Convert data types to float32\n",
        "X = X.astype('float32')\n",
        "\n",
        "# Handle the target variable based on its type\n",
        "if y.dtype == 'object':  # Check if 'y' contains strings (categorical)\n",
        "    from sklearn.preprocessing import LabelEncoder\n",
        "    label_encoder = LabelEncoder()\n",
        "    y = label_encoder.fit_transform(y)  # Encode categorical labels to numerical\n",
        "else:\n",
        "    y = y.astype('float32')  # If 'Prediction_augmented' is already numerical"
      ],
      "metadata": {
        "id": "S7djtJcM8Qe7"
      },
      "execution_count": 20,
      "outputs": []
    },
    {
      "cell_type": "markdown",
      "source": [
        "# **Data Modeling**\n",
        "\n",
        "After cleaning and preprocessing the data, we can now proceed to modeling the data using binary classification and Neural Network model."
      ],
      "metadata": {
        "id": "NSiP-CYh_Owq"
      }
    },
    {
      "cell_type": "code",
      "source": [
        "# Define the neural network model\n",
        "model = Sequential([\n",
        "    Dense(128, activation='relu', input_shape=(X.shape[1],)),\n",
        "    Dropout(0.5),\n",
        "    Dense(64, activation='relu'),\n",
        "    Dropout(0.5),\n",
        "    Dense(32, activation='relu'),\n",
        "    Dense(1, activation='sigmoid')\n",
        "])"
      ],
      "metadata": {
        "id": "KNz8QmZ7xlyg"
      },
      "execution_count": 21,
      "outputs": []
    },
    {
      "cell_type": "code",
      "source": [
        "# Compile the model\n",
        "model.compile(optimizer='adam', loss='binary_crossentropy', metrics=['accuracy'])"
      ],
      "metadata": {
        "id": "ujoPjv2Bxvjn"
      },
      "execution_count": 22,
      "outputs": []
    },
    {
      "cell_type": "markdown",
      "source": [
        "## **Training the Model**"
      ],
      "metadata": {
        "id": "WqvIT7s0AA46"
      }
    },
    {
      "cell_type": "markdown",
      "source": [
        "**Neural Networks** are a powerful class of machine learning models known for their ability to model complex, non-linear relationships in data (LeCun et al., 2015). These models are particularly effective for classification tasks that involve intricate patterns and high-dimensional features. In our context, where we aim to classify food products based on various features and allergens, neural networks offer significant advantages due to their flexible architecture.\n",
        "\n",
        "The **neural network model** used in this study is designed as follows:\n",
        "\n",
        "128 units in the input layer with ReLU activation\n",
        "Two hidden layers with 64 and 32 units, respectively, both using ReLU activation functions\n",
        "Dropout layers with a rate of 0.5 to mitigate overfitting\n",
        "1 output unit with a sigmoid activation function to predict binary classification outcomes\n",
        "The architecture is configured to handle high-dimensional feature inputs effectively and to capture non-linear patterns in the data, which is crucial for accurate allergen detection in food products. This setup aligns with recent findings that neural networks are highly effective in managing and classifying complex datasets, particularly in scenarios with intricate feature interactions (Goodfellow et al., 2016)."
      ],
      "metadata": {
        "id": "JPM-ekWcADQP"
      }
    },
    {
      "cell_type": "markdown",
      "source": [
        "To train the neural network model, we use the following configuration:\n",
        "\n",
        "Epochs: 50, allowing the model to learn from the data through multiple iterations.\n",
        "Batch Size: 16, specifying the number of samples processed before updating the model’s weights.\n",
        "Validation Split: 0.2, meaning 20% of the data is reserved for validation during training to monitor the model's performance and avoid overfitting.\n",
        "The training process involves fitting the model to the feature set (X) and the target labels (y). During training, the model's performance is evaluated on the validation set at the end of each epoch, helping us track its ability to generalize to unseen data. This approach ensures that the model is both learning effectively and validating its predictions on a portion of the data.The history object will contain details about the training and validation metrics over the epochs, providing insights into the model's learning curve and performance."
      ],
      "metadata": {
        "id": "WYrA-eVXBHk4"
      }
    },
    {
      "cell_type": "code",
      "source": [
        "# Train the model\n",
        "history = model.fit(X, y, epochs=50, batch_size=16, validation_split=0.2)"
      ],
      "metadata": {
        "colab": {
          "base_uri": "https://localhost:8080/"
        },
        "id": "cOWq50cBxzwQ",
        "outputId": "1433df51-b8e7-4a6b-8386-866f706ecd2b"
      },
      "execution_count": 23,
      "outputs": [
        {
          "output_type": "stream",
          "name": "stdout",
          "text": [
            "Epoch 1/50\n",
            "23/23 [==============================] - 1s 19ms/step - loss: 0.3858 - accuracy: 0.8986 - val_loss: 0.0856 - val_accuracy: 1.0000\n",
            "Epoch 2/50\n",
            "23/23 [==============================] - 0s 7ms/step - loss: 0.0369 - accuracy: 1.0000 - val_loss: 0.0027 - val_accuracy: 1.0000\n",
            "Epoch 3/50\n",
            "23/23 [==============================] - 0s 8ms/step - loss: 0.0041 - accuracy: 1.0000 - val_loss: 5.2623e-04 - val_accuracy: 1.0000\n",
            "Epoch 4/50\n",
            "23/23 [==============================] - 0s 6ms/step - loss: 0.0021 - accuracy: 1.0000 - val_loss: 2.4277e-04 - val_accuracy: 1.0000\n",
            "Epoch 5/50\n",
            "23/23 [==============================] - 0s 5ms/step - loss: 0.0014 - accuracy: 1.0000 - val_loss: 1.3946e-04 - val_accuracy: 1.0000\n",
            "Epoch 6/50\n",
            "23/23 [==============================] - 0s 6ms/step - loss: 0.0013 - accuracy: 1.0000 - val_loss: 7.1329e-05 - val_accuracy: 1.0000\n",
            "Epoch 7/50\n",
            "23/23 [==============================] - 0s 7ms/step - loss: 6.1347e-04 - accuracy: 1.0000 - val_loss: 4.6684e-05 - val_accuracy: 1.0000\n",
            "Epoch 8/50\n",
            "23/23 [==============================] - 0s 6ms/step - loss: 4.0762e-04 - accuracy: 1.0000 - val_loss: 3.0582e-05 - val_accuracy: 1.0000\n",
            "Epoch 9/50\n",
            "23/23 [==============================] - 0s 6ms/step - loss: 3.5366e-04 - accuracy: 1.0000 - val_loss: 2.0820e-05 - val_accuracy: 1.0000\n",
            "Epoch 10/50\n",
            "23/23 [==============================] - 0s 6ms/step - loss: 2.3082e-04 - accuracy: 1.0000 - val_loss: 1.5007e-05 - val_accuracy: 1.0000\n",
            "Epoch 11/50\n",
            "23/23 [==============================] - 0s 8ms/step - loss: 2.1580e-04 - accuracy: 1.0000 - val_loss: 1.1366e-05 - val_accuracy: 1.0000\n",
            "Epoch 12/50\n",
            "23/23 [==============================] - 0s 6ms/step - loss: 1.5980e-04 - accuracy: 1.0000 - val_loss: 8.1990e-06 - val_accuracy: 1.0000\n",
            "Epoch 13/50\n",
            "23/23 [==============================] - 0s 6ms/step - loss: 1.9456e-04 - accuracy: 1.0000 - val_loss: 6.1849e-06 - val_accuracy: 1.0000\n",
            "Epoch 14/50\n",
            "23/23 [==============================] - 0s 5ms/step - loss: 1.4742e-04 - accuracy: 1.0000 - val_loss: 4.5610e-06 - val_accuracy: 1.0000\n",
            "Epoch 15/50\n",
            "23/23 [==============================] - 0s 5ms/step - loss: 2.5438e-04 - accuracy: 1.0000 - val_loss: 3.2322e-06 - val_accuracy: 1.0000\n",
            "Epoch 16/50\n",
            "23/23 [==============================] - 0s 5ms/step - loss: 8.2258e-05 - accuracy: 1.0000 - val_loss: 2.5392e-06 - val_accuracy: 1.0000\n",
            "Epoch 17/50\n",
            "23/23 [==============================] - 0s 7ms/step - loss: 1.2477e-04 - accuracy: 1.0000 - val_loss: 2.0648e-06 - val_accuracy: 1.0000\n",
            "Epoch 18/50\n",
            "23/23 [==============================] - 0s 8ms/step - loss: 7.6323e-05 - accuracy: 1.0000 - val_loss: 1.7085e-06 - val_accuracy: 1.0000\n",
            "Epoch 19/50\n",
            "23/23 [==============================] - 0s 6ms/step - loss: 8.3284e-05 - accuracy: 1.0000 - val_loss: 1.4008e-06 - val_accuracy: 1.0000\n",
            "Epoch 20/50\n",
            "23/23 [==============================] - 0s 7ms/step - loss: 5.2087e-05 - accuracy: 1.0000 - val_loss: 1.2326e-06 - val_accuracy: 1.0000\n",
            "Epoch 21/50\n",
            "23/23 [==============================] - 0s 6ms/step - loss: 1.1786e-04 - accuracy: 1.0000 - val_loss: 1.0258e-06 - val_accuracy: 1.0000\n",
            "Epoch 22/50\n",
            "23/23 [==============================] - 0s 6ms/step - loss: 2.3013e-04 - accuracy: 1.0000 - val_loss: 8.2492e-07 - val_accuracy: 1.0000\n",
            "Epoch 23/50\n",
            "23/23 [==============================] - 0s 8ms/step - loss: 6.4823e-05 - accuracy: 1.0000 - val_loss: 6.3306e-07 - val_accuracy: 1.0000\n",
            "Epoch 24/50\n",
            "23/23 [==============================] - 0s 7ms/step - loss: 5.5650e-05 - accuracy: 1.0000 - val_loss: 5.4811e-07 - val_accuracy: 1.0000\n",
            "Epoch 25/50\n",
            "23/23 [==============================] - 0s 7ms/step - loss: 3.6359e-05 - accuracy: 1.0000 - val_loss: 4.8222e-07 - val_accuracy: 1.0000\n",
            "Epoch 26/50\n",
            "23/23 [==============================] - 0s 6ms/step - loss: 1.0760e-04 - accuracy: 1.0000 - val_loss: 3.6313e-07 - val_accuracy: 1.0000\n",
            "Epoch 27/50\n",
            "23/23 [==============================] - 0s 6ms/step - loss: 3.2666e-05 - accuracy: 1.0000 - val_loss: 3.1640e-07 - val_accuracy: 1.0000\n",
            "Epoch 28/50\n",
            "23/23 [==============================] - 0s 7ms/step - loss: 2.7953e-05 - accuracy: 1.0000 - val_loss: 2.8679e-07 - val_accuracy: 1.0000\n",
            "Epoch 29/50\n",
            "23/23 [==============================] - 0s 4ms/step - loss: 5.3992e-05 - accuracy: 1.0000 - val_loss: 2.5775e-07 - val_accuracy: 1.0000\n",
            "Epoch 30/50\n",
            "23/23 [==============================] - 0s 4ms/step - loss: 3.0721e-05 - accuracy: 1.0000 - val_loss: 2.3219e-07 - val_accuracy: 1.0000\n",
            "Epoch 31/50\n",
            "23/23 [==============================] - 0s 5ms/step - loss: 2.2605e-05 - accuracy: 1.0000 - val_loss: 2.1688e-07 - val_accuracy: 1.0000\n",
            "Epoch 32/50\n",
            "23/23 [==============================] - 0s 3ms/step - loss: 3.3830e-05 - accuracy: 1.0000 - val_loss: 1.9471e-07 - val_accuracy: 1.0000\n",
            "Epoch 33/50\n",
            "23/23 [==============================] - 0s 3ms/step - loss: 3.0997e-05 - accuracy: 1.0000 - val_loss: 1.7736e-07 - val_accuracy: 1.0000\n",
            "Epoch 34/50\n",
            "23/23 [==============================] - 0s 3ms/step - loss: 2.8528e-05 - accuracy: 1.0000 - val_loss: 1.5670e-07 - val_accuracy: 1.0000\n",
            "Epoch 35/50\n",
            "23/23 [==============================] - 0s 3ms/step - loss: 2.4500e-05 - accuracy: 1.0000 - val_loss: 1.4161e-07 - val_accuracy: 1.0000\n",
            "Epoch 36/50\n",
            "23/23 [==============================] - 0s 4ms/step - loss: 2.1126e-05 - accuracy: 1.0000 - val_loss: 1.2971e-07 - val_accuracy: 1.0000\n",
            "Epoch 37/50\n",
            "23/23 [==============================] - 0s 3ms/step - loss: 2.0204e-05 - accuracy: 1.0000 - val_loss: 1.2047e-07 - val_accuracy: 1.0000\n",
            "Epoch 38/50\n",
            "23/23 [==============================] - 0s 3ms/step - loss: 5.0068e-05 - accuracy: 1.0000 - val_loss: 1.0494e-07 - val_accuracy: 1.0000\n",
            "Epoch 39/50\n",
            "23/23 [==============================] - 0s 3ms/step - loss: 4.5245e-05 - accuracy: 1.0000 - val_loss: 9.2545e-08 - val_accuracy: 1.0000\n",
            "Epoch 40/50\n",
            "23/23 [==============================] - 0s 4ms/step - loss: 9.8168e-06 - accuracy: 1.0000 - val_loss: 8.6842e-08 - val_accuracy: 1.0000\n",
            "Epoch 41/50\n",
            "23/23 [==============================] - 0s 6ms/step - loss: 1.1397e-05 - accuracy: 1.0000 - val_loss: 8.1960e-08 - val_accuracy: 1.0000\n",
            "Epoch 42/50\n",
            "23/23 [==============================] - 0s 5ms/step - loss: 1.4235e-05 - accuracy: 1.0000 - val_loss: 7.7870e-08 - val_accuracy: 1.0000\n",
            "Epoch 43/50\n",
            "23/23 [==============================] - 0s 5ms/step - loss: 1.7374e-05 - accuracy: 1.0000 - val_loss: 7.1641e-08 - val_accuracy: 1.0000\n",
            "Epoch 44/50\n",
            "23/23 [==============================] - 0s 4ms/step - loss: 4.0358e-05 - accuracy: 1.0000 - val_loss: 6.3078e-08 - val_accuracy: 1.0000\n",
            "Epoch 45/50\n",
            "23/23 [==============================] - 0s 3ms/step - loss: 2.0091e-05 - accuracy: 1.0000 - val_loss: 5.7855e-08 - val_accuracy: 1.0000\n",
            "Epoch 46/50\n",
            "23/23 [==============================] - 0s 4ms/step - loss: 2.9976e-05 - accuracy: 1.0000 - val_loss: 5.3052e-08 - val_accuracy: 1.0000\n",
            "Epoch 47/50\n",
            "23/23 [==============================] - 0s 4ms/step - loss: 1.0407e-05 - accuracy: 1.0000 - val_loss: 4.9607e-08 - val_accuracy: 1.0000\n",
            "Epoch 48/50\n",
            "23/23 [==============================] - 0s 3ms/step - loss: 1.1858e-05 - accuracy: 1.0000 - val_loss: 4.6755e-08 - val_accuracy: 1.0000\n",
            "Epoch 49/50\n",
            "23/23 [==============================] - 0s 3ms/step - loss: 6.9793e-06 - accuracy: 1.0000 - val_loss: 4.4603e-08 - val_accuracy: 1.0000\n",
            "Epoch 50/50\n",
            "23/23 [==============================] - 0s 3ms/step - loss: 1.4228e-05 - accuracy: 1.0000 - val_loss: 4.1632e-08 - val_accuracy: 1.0000\n"
          ]
        }
      ]
    },
    {
      "cell_type": "code",
      "source": [
        "# Extracting Training History\n",
        "epochs = range(1, len(history.history['accuracy']) + 1)\n",
        "training_accuracy = history.history['accuracy']\n",
        "validation_accuracy = history.history['val_accuracy']"
      ],
      "metadata": {
        "id": "VODMg28mOjul"
      },
      "execution_count": 26,
      "outputs": []
    },
    {
      "cell_type": "markdown",
      "source": [
        "## **Evaluating the Neural Network Model**\n",
        "After training the model, we assess its performance using the following configuration:\n",
        "\n",
        "Loss and Accuracy Metrics: Evaluate the model’s performance on the same dataset used for training (X and y).\n",
        "The evaluation process involves computing the loss and accuracy, which provides insights into how well the model has learned to classify the data. The accuracy metric reflects the percentage of correctly classified instances out of the total, while the loss indicates the error in the model's predictions."
      ],
      "metadata": {
        "id": "0iH3VTZqBjf_"
      }
    },
    {
      "cell_type": "code",
      "source": [
        "# Evaluate the model\n",
        "loss, accuracy = model.evaluate(X, y)\n",
        "print(f'Accuracy: {accuracy*100:.2f}%')"
      ],
      "metadata": {
        "id": "NVgG2e1-9z8G",
        "outputId": "4b0bdf6a-5616-48b7-f090-9aa2c837a3c1",
        "colab": {
          "base_uri": "https://localhost:8080/"
        }
      },
      "execution_count": 27,
      "outputs": [
        {
          "output_type": "stream",
          "name": "stdout",
          "text": [
            "14/14 [==============================] - 0s 2ms/step - loss: 4.1632e-08 - accuracy: 1.0000\n",
            "Accuracy: 100.00%\n"
          ]
        }
      ]
    },
    {
      "cell_type": "code",
      "source": [
        "print(\"Length of epochs:\", len(epochs))\n",
        "print(\"Length of training_accuracy:\", len(training_accuracy))\n",
        "print(\"Length of validation_accuracy:\", len(validation_accuracy))\n"
      ],
      "metadata": {
        "colab": {
          "base_uri": "https://localhost:8080/"
        },
        "id": "gST5d-w8O-Lz",
        "outputId": "77392596-55aa-4ae5-f200-893a05c4a8e9"
      },
      "execution_count": 28,
      "outputs": [
        {
          "output_type": "stream",
          "name": "stdout",
          "text": [
            "Length of epochs: 50\n",
            "Length of training_accuracy: 50\n",
            "Length of validation_accuracy: 50\n"
          ]
        }
      ]
    },
    {
      "cell_type": "code",
      "source": [
        "# Print the history dictionary to check the keys and their values\n",
        "print(history.history)"
      ],
      "metadata": {
        "colab": {
          "base_uri": "https://localhost:8080/"
        },
        "id": "4pPmTmefPMD-",
        "outputId": "f841d444-7635-4e1d-bd94-f0eb4101982a"
      },
      "execution_count": 29,
      "outputs": [
        {
          "output_type": "stream",
          "name": "stdout",
          "text": [
            "{'loss': [0.3857634663581848, 0.03689172491431236, 0.004092405084520578, 0.00211616070009768, 0.0013581064995378256, 0.0012576087610796094, 0.0006134728319011629, 0.000407620012992993, 0.0003536565345712006, 0.00023082135885488242, 0.00021579681197181344, 0.00015979987801983953, 0.0001945596159202978, 0.0001474220771342516, 0.0002543753362260759, 8.225759665947407e-05, 0.00012477375275921077, 7.632268534507602e-05, 8.32839505164884e-05, 5.2087056246818975e-05, 0.00011785511742345989, 0.00023012820747680962, 6.482331809820607e-05, 5.5650234571658075e-05, 3.635855682659894e-05, 0.00010759953147498891, 3.266568819526583e-05, 2.795323234749958e-05, 5.399234942160547e-05, 3.072089748457074e-05, 2.2604712285101414e-05, 3.383001603651792e-05, 3.099748937529512e-05, 2.8527763788588345e-05, 2.4500421204720624e-05, 2.112594484060537e-05, 2.0203586245770566e-05, 5.0068189011653885e-05, 4.524509495240636e-05, 9.816816600505263e-06, 1.139743017120054e-05, 1.4235028174880426e-05, 1.7373640730511397e-05, 4.035839083371684e-05, 2.0091029000468552e-05, 2.9976077712490223e-05, 1.040714869304793e-05, 1.1858207471959759e-05, 6.979291356401518e-06, 1.4227895007934421e-05], 'accuracy': [0.8985915780067444, 1.0, 1.0, 1.0, 1.0, 1.0, 1.0, 1.0, 1.0, 1.0, 1.0, 1.0, 1.0, 1.0, 1.0, 1.0, 1.0, 1.0, 1.0, 1.0, 1.0, 1.0, 1.0, 1.0, 1.0, 1.0, 1.0, 1.0, 1.0, 1.0, 1.0, 1.0, 1.0, 1.0, 1.0, 1.0, 1.0, 1.0, 1.0, 1.0, 1.0, 1.0, 1.0, 1.0, 1.0, 1.0, 1.0, 1.0, 1.0, 1.0], 'val_loss': [0.08556778728961945, 0.002730956068262458, 0.0005262269987724721, 0.0002427732542855665, 0.00013945500541012734, 7.132913015084341e-05, 4.66835917904973e-05, 3.05816502077505e-05, 2.0820341887883842e-05, 1.5006748981249984e-05, 1.1366296348569449e-05, 8.199006515496876e-06, 6.184851827129023e-06, 4.560984507406829e-06, 3.2322234346793266e-06, 2.539170964155346e-06, 2.0647844394261483e-06, 1.7084674936995725e-06, 1.4008004427523701e-06, 1.2326349860813934e-06, 1.0257745088892989e-06, 8.249187999354035e-07, 6.330558335321257e-07, 5.481072093971306e-07, 4.822188657271909e-07, 3.631325000696961e-07, 3.164012980505504e-07, 2.8678516628133366e-07, 2.577479563115048e-07, 2.321856982234749e-07, 2.1688266826913605e-07, 1.9471013956717798e-07, 1.7736461188633257e-07, 1.5669606057144847e-07, 1.4161292938297265e-07, 1.2970765794761974e-07, 1.2047082975641388e-07, 1.0494393620774645e-07, 9.254489441445912e-08, 8.684226315835986e-08, 8.196021639150786e-08, 7.787043898588308e-08, 7.164134530057709e-08, 6.307800504146144e-08, 5.785460288620925e-08, 5.305220440732228e-08, 4.9606537544377716e-08, 4.675487019767388e-08, 4.460334324107862e-08, 4.1631629699168116e-08], 'val_accuracy': [1.0, 1.0, 1.0, 1.0, 1.0, 1.0, 1.0, 1.0, 1.0, 1.0, 1.0, 1.0, 1.0, 1.0, 1.0, 1.0, 1.0, 1.0, 1.0, 1.0, 1.0, 1.0, 1.0, 1.0, 1.0, 1.0, 1.0, 1.0, 1.0, 1.0, 1.0, 1.0, 1.0, 1.0, 1.0, 1.0, 1.0, 1.0, 1.0, 1.0, 1.0, 1.0, 1.0, 1.0, 1.0, 1.0, 1.0, 1.0, 1.0, 1.0]}\n"
          ]
        }
      ]
    },
    {
      "cell_type": "markdown",
      "source": [
        " ## **Visualization of Model Accuracy**\n",
        " We import the matplotlib.pyplot library for plotting.\n",
        "We then create a range of numbers from 1 to 50 to represent the epoch numbers, then extract the training and validation accuracy values from the history object. This code will create a clear visualization of how your model's accuracy is changing over the training process, both on the training data and the validation data."
      ],
      "metadata": {
        "id": "Xz0R7UTb8aOd"
      }
    },
    {
      "cell_type": "code",
      "source": [
        "import matplotlib.pyplot as plt\n",
        "\n",
        "epochs = range(1, 51)  # Since there are 50 epochs\n",
        "training_accuracy = history.history['accuracy']\n",
        "validation_accuracy = history.history['val_accuracy']\n",
        "\n",
        "plt.figure(figsize=(15, 5))\n",
        "plt.plot(epochs, training_accuracy, label='Training Accuracy')\n",
        "plt.plot(epochs, validation_accuracy, label='Validation Accuracy')\n",
        "plt.xlabel('Epochs')\n",
        "plt.ylabel('Accuracy')\n",
        "plt.title('Training and Validation Accuracy')\n",
        "plt.legend()\n",
        "plt.grid(True)\n",
        "plt.show()\n"
      ],
      "metadata": {
        "colab": {
          "base_uri": "https://localhost:8080/",
          "height": 319
        },
        "id": "DVnzymDeOyzr",
        "outputId": "d64d8b75-f2e4-4dd2-d902-32faf5fbc9d8"
      },
      "execution_count": 36,
      "outputs": [
        {
          "output_type": "display_data",
          "data": {
            "text/plain": [
              "<Figure size 1500x500 with 1 Axes>"
            ],
            "image/png": "[encoded data removed]"
          },
          "metadata": {}
        }
      ]
    },
    {
      "cell_type": "markdown",
      "source": [
        "## **Split Dataset For Training**\n",
        "\n",
        "Splitting the dataset into training and validation sets is crucial for evaluating how well the model generalizes to unseen data. We trained the model on the X_train and y_train data, and then use the X_val and y_val data to assess its performance on data it hasn't seen before."
      ],
      "metadata": {
        "id": "8NKOLrqr-pU7"
      }
    },
    {
      "cell_type": "code",
      "source": [
        "from sklearn.model_selection import train_test_split\n",
        "\n",
        "# Assuming X and y are your features and labels from the training dataset\n",
        "X_train, X_val, y_train, y_val = train_test_split(X, y, test_size=0.2, random_state=42)\n"
      ],
      "metadata": {
        "id": "DmteKi5k2NL2"
      },
      "execution_count": 38,
      "outputs": []
    },
    {
      "cell_type": "code",
      "source": [
        "# Train the model\n",
        "history = model.fit(X_train, y_train, epochs=50, batch_size=16, validation_data=(X_val, y_val))\n"
      ],
      "metadata": {
        "colab": {
          "base_uri": "https://localhost:8080/"
        },
        "id": "A9LX6Xh53vzc",
        "outputId": "fe794638-7669-4cc1-8616-b126f2ad0d7f"
      },
      "execution_count": 40,
      "outputs": [
        {
          "output_type": "stream",
          "name": "stdout",
          "text": [
            "Epoch 1/50\n",
            "23/23 [==============================] - 0s 5ms/step - loss: 1.3512e-06 - accuracy: 1.0000 - val_loss: 1.7330e-09 - val_accuracy: 1.0000\n",
            "Epoch 2/50\n",
            "23/23 [==============================] - 0s 4ms/step - loss: 1.2648e-05 - accuracy: 1.0000 - val_loss: 1.6255e-09 - val_accuracy: 1.0000\n",
            "Epoch 3/50\n",
            "23/23 [==============================] - 0s 5ms/step - loss: 2.6493e-06 - accuracy: 1.0000 - val_loss: 1.5619e-09 - val_accuracy: 1.0000\n",
            "Epoch 4/50\n",
            "23/23 [==============================] - 0s 3ms/step - loss: 3.7350e-06 - accuracy: 1.0000 - val_loss: 1.4877e-09 - val_accuracy: 1.0000\n",
            "Epoch 5/50\n",
            "23/23 [==============================] - 0s 4ms/step - loss: 3.6399e-06 - accuracy: 1.0000 - val_loss: 1.4214e-09 - val_accuracy: 1.0000\n",
            "Epoch 6/50\n",
            "23/23 [==============================] - 0s 5ms/step - loss: 4.5889e-06 - accuracy: 1.0000 - val_loss: 1.3527e-09 - val_accuracy: 1.0000\n",
            "Epoch 7/50\n",
            "23/23 [==============================] - 0s 4ms/step - loss: 8.9598e-06 - accuracy: 1.0000 - val_loss: 1.2630e-09 - val_accuracy: 1.0000\n",
            "Epoch 8/50\n",
            "23/23 [==============================] - 0s 4ms/step - loss: 1.6761e-06 - accuracy: 1.0000 - val_loss: 1.2101e-09 - val_accuracy: 1.0000\n",
            "Epoch 9/50\n",
            "23/23 [==============================] - 0s 4ms/step - loss: 1.4613e-06 - accuracy: 1.0000 - val_loss: 1.1708e-09 - val_accuracy: 1.0000\n",
            "Epoch 10/50\n",
            "23/23 [==============================] - 0s 4ms/step - loss: 1.5903e-06 - accuracy: 1.0000 - val_loss: 1.1446e-09 - val_accuracy: 1.0000\n",
            "Epoch 11/50\n",
            "23/23 [==============================] - 0s 4ms/step - loss: 2.3133e-06 - accuracy: 1.0000 - val_loss: 1.1055e-09 - val_accuracy: 1.0000\n",
            "Epoch 12/50\n",
            "23/23 [==============================] - 0s 4ms/step - loss: 1.5173e-06 - accuracy: 1.0000 - val_loss: 1.0723e-09 - val_accuracy: 1.0000\n",
            "Epoch 13/50\n",
            "23/23 [==============================] - 0s 4ms/step - loss: 1.4809e-06 - accuracy: 1.0000 - val_loss: 1.0457e-09 - val_accuracy: 1.0000\n",
            "Epoch 14/50\n",
            "23/23 [==============================] - 0s 4ms/step - loss: 2.2501e-06 - accuracy: 1.0000 - val_loss: 1.0221e-09 - val_accuracy: 1.0000\n",
            "Epoch 15/50\n",
            "23/23 [==============================] - 0s 5ms/step - loss: 2.1062e-06 - accuracy: 1.0000 - val_loss: 9.8530e-10 - val_accuracy: 1.0000\n",
            "Epoch 16/50\n",
            "23/23 [==============================] - 0s 5ms/step - loss: 2.9895e-06 - accuracy: 1.0000 - val_loss: 9.4530e-10 - val_accuracy: 1.0000\n",
            "Epoch 17/50\n",
            "23/23 [==============================] - 0s 3ms/step - loss: 1.0046e-05 - accuracy: 1.0000 - val_loss: 8.6665e-10 - val_accuracy: 1.0000\n",
            "Epoch 18/50\n",
            "23/23 [==============================] - 0s 4ms/step - loss: 2.7661e-06 - accuracy: 1.0000 - val_loss: 8.0839e-10 - val_accuracy: 1.0000\n",
            "Epoch 19/50\n",
            "23/23 [==============================] - 0s 4ms/step - loss: 9.6316e-06 - accuracy: 1.0000 - val_loss: 7.7286e-10 - val_accuracy: 1.0000\n",
            "Epoch 20/50\n",
            "23/23 [==============================] - 0s 4ms/step - loss: 8.9911e-06 - accuracy: 1.0000 - val_loss: 7.0709e-10 - val_accuracy: 1.0000\n",
            "Epoch 21/50\n",
            "23/23 [==============================] - 0s 4ms/step - loss: 2.8773e-06 - accuracy: 1.0000 - val_loss: 6.5419e-10 - val_accuracy: 1.0000\n",
            "Epoch 22/50\n",
            "23/23 [==============================] - 0s 4ms/step - loss: 1.3523e-06 - accuracy: 1.0000 - val_loss: 6.3441e-10 - val_accuracy: 1.0000\n",
            "Epoch 23/50\n",
            "23/23 [==============================] - 0s 4ms/step - loss: 3.6427e-06 - accuracy: 1.0000 - val_loss: 6.0912e-10 - val_accuracy: 1.0000\n",
            "Epoch 24/50\n",
            "23/23 [==============================] - 0s 4ms/step - loss: 6.5180e-07 - accuracy: 1.0000 - val_loss: 5.9299e-10 - val_accuracy: 1.0000\n",
            "Epoch 25/50\n",
            "23/23 [==============================] - 0s 5ms/step - loss: 1.4229e-06 - accuracy: 1.0000 - val_loss: 5.8097e-10 - val_accuracy: 1.0000\n",
            "Epoch 26/50\n",
            "23/23 [==============================] - 0s 5ms/step - loss: 3.7652e-07 - accuracy: 1.0000 - val_loss: 5.6964e-10 - val_accuracy: 1.0000\n",
            "Epoch 27/50\n",
            "23/23 [==============================] - 0s 3ms/step - loss: 2.6848e-06 - accuracy: 1.0000 - val_loss: 5.4623e-10 - val_accuracy: 1.0000\n",
            "Epoch 28/50\n",
            "23/23 [==============================] - 0s 4ms/step - loss: 6.6318e-07 - accuracy: 1.0000 - val_loss: 5.3433e-10 - val_accuracy: 1.0000\n",
            "Epoch 29/50\n",
            "23/23 [==============================] - 0s 4ms/step - loss: 1.7128e-06 - accuracy: 1.0000 - val_loss: 5.2118e-10 - val_accuracy: 1.0000\n",
            "Epoch 30/50\n",
            "23/23 [==============================] - 0s 4ms/step - loss: 2.7408e-06 - accuracy: 1.0000 - val_loss: 4.9665e-10 - val_accuracy: 1.0000\n",
            "Epoch 31/50\n",
            "23/23 [==============================] - 0s 4ms/step - loss: 1.3255e-06 - accuracy: 1.0000 - val_loss: 4.8114e-10 - val_accuracy: 1.0000\n",
            "Epoch 32/50\n",
            "23/23 [==============================] - 0s 4ms/step - loss: 4.4335e-06 - accuracy: 1.0000 - val_loss: 4.5356e-10 - val_accuracy: 1.0000\n",
            "Epoch 33/50\n",
            "23/23 [==============================] - 0s 4ms/step - loss: 8.4032e-07 - accuracy: 1.0000 - val_loss: 4.3588e-10 - val_accuracy: 1.0000\n",
            "Epoch 34/50\n",
            "23/23 [==============================] - 0s 4ms/step - loss: 4.2738e-06 - accuracy: 1.0000 - val_loss: 4.1219e-10 - val_accuracy: 1.0000\n",
            "Epoch 35/50\n",
            "23/23 [==============================] - 0s 6ms/step - loss: 5.1163e-06 - accuracy: 1.0000 - val_loss: 3.8255e-10 - val_accuracy: 1.0000\n",
            "Epoch 36/50\n",
            "23/23 [==============================] - 0s 4ms/step - loss: 5.9564e-07 - accuracy: 1.0000 - val_loss: 3.6473e-10 - val_accuracy: 1.0000\n",
            "Epoch 37/50\n",
            "23/23 [==============================] - 0s 5ms/step - loss: 2.7900e-06 - accuracy: 1.0000 - val_loss: 3.4910e-10 - val_accuracy: 1.0000\n",
            "Epoch 38/50\n",
            "23/23 [==============================] - 0s 4ms/step - loss: 6.2760e-07 - accuracy: 1.0000 - val_loss: 3.4006e-10 - val_accuracy: 1.0000\n",
            "Epoch 39/50\n",
            "23/23 [==============================] - 0s 4ms/step - loss: 7.0801e-07 - accuracy: 1.0000 - val_loss: 3.3422e-10 - val_accuracy: 1.0000\n",
            "Epoch 40/50\n",
            "23/23 [==============================] - 0s 5ms/step - loss: 1.3538e-06 - accuracy: 1.0000 - val_loss: 3.2501e-10 - val_accuracy: 1.0000\n",
            "Epoch 41/50\n",
            "23/23 [==============================] - 0s 5ms/step - loss: 1.3320e-06 - accuracy: 1.0000 - val_loss: 3.1653e-10 - val_accuracy: 1.0000\n",
            "Epoch 42/50\n",
            "23/23 [==============================] - 0s 5ms/step - loss: 1.3709e-06 - accuracy: 1.0000 - val_loss: 3.0653e-10 - val_accuracy: 1.0000\n",
            "Epoch 43/50\n",
            "23/23 [==============================] - 0s 5ms/step - loss: 1.3590e-06 - accuracy: 1.0000 - val_loss: 2.9802e-10 - val_accuracy: 1.0000\n",
            "Epoch 44/50\n",
            "23/23 [==============================] - 0s 5ms/step - loss: 3.8629e-07 - accuracy: 1.0000 - val_loss: 2.9362e-10 - val_accuracy: 1.0000\n",
            "Epoch 45/50\n",
            "23/23 [==============================] - 0s 4ms/step - loss: 1.9767e-06 - accuracy: 1.0000 - val_loss: 2.8355e-10 - val_accuracy: 1.0000\n",
            "Epoch 46/50\n",
            "23/23 [==============================] - 0s 3ms/step - loss: 1.8055e-06 - accuracy: 1.0000 - val_loss: 2.7282e-10 - val_accuracy: 1.0000\n",
            "Epoch 47/50\n",
            "23/23 [==============================] - 0s 3ms/step - loss: 2.4733e-06 - accuracy: 1.0000 - val_loss: 2.4202e-10 - val_accuracy: 1.0000\n",
            "Epoch 48/50\n",
            "23/23 [==============================] - 0s 5ms/step - loss: 3.2125e-06 - accuracy: 1.0000 - val_loss: 2.2725e-10 - val_accuracy: 1.0000\n",
            "Epoch 49/50\n",
            "23/23 [==============================] - 0s 4ms/step - loss: 1.1050e-06 - accuracy: 1.0000 - val_loss: 2.2161e-10 - val_accuracy: 1.0000\n",
            "Epoch 50/50\n",
            "23/23 [==============================] - 0s 4ms/step - loss: 2.9998e-06 - accuracy: 1.0000 - val_loss: 2.1256e-10 - val_accuracy: 1.0000\n"
          ]
        }
      ]
    },
    {
      "cell_type": "markdown",
      "source": [
        "## **Visualization For Model Loss And Accuracy**\n",
        "\n",
        "By analyzing both the loss and accuracy plots, we gain a comprehensive understanding of your model's training progress and can make informed decisions about adjustments or early stopping to optimize its performance."
      ],
      "metadata": {
        "id": "_d71TEWj_hpM"
      }
    },
    {
      "cell_type": "code",
      "source": [
        "import matplotlib.pyplot as plt\n",
        "\n",
        "# Assuming 'history' is the result of the model.fit() call\n",
        "# Plot training & validation loss values\n",
        "plt.figure(figsize=(14, 5))\n",
        "\n",
        "plt.subplot(1, 2, 1)\n",
        "plt.plot(history.history['loss'], label='Training Loss')\n",
        "plt.plot(history.history['val_loss'], label='Validation Loss')\n",
        "plt.title('Model Loss')\n",
        "plt.xlabel('Epoch')\n",
        "plt.ylabel('Loss')\n",
        "plt.legend(loc='upper right')\n",
        "\n",
        "# Plot training & validation accuracy values\n",
        "plt.subplot(1, 2, 2)\n",
        "plt.plot(history.history['accuracy'], label='Training Accuracy')\n",
        "plt.plot(history.history['val_accuracy'], label='Validation Accuracy')\n",
        "plt.title('Model Accuracy')\n",
        "plt.xlabel('Epoch')\n",
        "plt.ylabel('Accuracy')\n",
        "plt.legend(loc='lower right')\n",
        "\n",
        "plt.show()\n"
      ],
      "metadata": {
        "colab": {
          "base_uri": "https://localhost:8080/",
          "height": 341
        },
        "id": "VueZyxBD4MzV",
        "outputId": "9d886dd0-d2b9-49eb-fbaf-8834a689b53b"
      },
      "execution_count": 42,
      "outputs": [
        {
          "output_type": "display_data",
          "data": {
            "text/plain": [
              "<Figure size 1400x500 with 2 Axes>"
            ],
            "image/png": "[encoded data removed]"
          },
          "metadata": {}
        }
      ]
    },
    {
      "cell_type": "code",
      "source": [
        "# Print the history dictionary to check the keys and their values\n",
        "print(history.history)"
      ],
      "metadata": {
        "colab": {
          "base_uri": "https://localhost:8080/"
        },
        "id": "WkWedDyY4d14",
        "outputId": "6fe2317f-83b8-496e-b7b1-1b606e051357"
      },
      "execution_count": 43,
      "outputs": [
        {
          "output_type": "stream",
          "name": "stdout",
          "text": [
            "{'loss': [1.3511817087419331e-06, 1.2647537914745044e-05, 2.6493496534385486e-06, 3.7349884678405942e-06, 3.6399135296960594e-06, 4.588899628288345e-06, 8.959778824646492e-06, 1.6760658354542102e-06, 1.4613174244004767e-06, 1.59025921675493e-06, 2.31333933697897e-06, 1.5173151268754737e-06, 1.4809137383053894e-06, 2.250068519060733e-06, 2.106185092998203e-06, 2.9894965791754657e-06, 1.0046112947748043e-05, 2.766149009403307e-06, 9.63163074629847e-06, 8.991100003186148e-06, 2.877328370232135e-06, 1.3523193729270133e-06, 3.64266338692687e-06, 6.518047825920803e-07, 1.4229370890461723e-06, 3.7652151263500855e-07, 2.6847919798456132e-06, 6.631765359088604e-07, 1.7128046465586522e-06, 2.740817990343203e-06, 1.325462335444172e-06, 4.433499725564616e-06, 8.403183642258227e-07, 4.273773811291903e-06, 5.116261945659062e-06, 5.956400173090515e-07, 2.789983000184293e-06, 6.275998885030276e-07, 7.080133741510508e-07, 1.3538059420170612e-06, 1.3320226344148978e-06, 1.3708926189792692e-06, 1.3589756235887762e-06, 3.8629104892606847e-07, 1.976723297048011e-06, 1.8054648762699799e-06, 2.4732585188758094e-06, 3.212458750567748e-06, 1.1050422017433448e-06, 2.999799107783474e-06], 'accuracy': [1.0, 1.0, 1.0, 1.0, 1.0, 1.0, 1.0, 1.0, 1.0, 1.0, 1.0, 1.0, 1.0, 1.0, 1.0, 1.0, 1.0, 1.0, 1.0, 1.0, 1.0, 1.0, 1.0, 1.0, 1.0, 1.0, 1.0, 1.0, 1.0, 1.0, 1.0, 1.0, 1.0, 1.0, 1.0, 1.0, 1.0, 1.0, 1.0, 1.0, 1.0, 1.0, 1.0, 1.0, 1.0, 1.0, 1.0, 1.0, 1.0, 1.0], 'val_loss': [1.733035492890167e-09, 1.625547696448848e-09, 1.5619447957249122e-09, 1.4876603282587553e-09, 1.4213857868483615e-09, 1.3526737507874032e-09, 1.2629703949329496e-09, 1.210087030578677e-09, 1.1707599334442875e-09, 1.1446344982957157e-09, 1.1054593906933974e-09, 1.072282151959314e-09, 1.0457300581023787e-09, 1.0221449242564518e-09, 9.85295955935328e-10, 9.453042792983979e-10, 8.666511952526434e-10, 8.083902991451453e-10, 7.728618856006619e-10, 7.070933283337411e-10, 6.541900909873277e-10, 6.344076375341956e-10, 6.091247506390118e-10, 5.929943758253842e-10, 5.809716596694159e-10, 5.696378924113787e-10, 5.462295060709721e-10, 5.343288034254101e-10, 5.211760467638271e-10, 4.966499989045303e-10, 4.811429032969272e-10, 4.5355930122781274e-10, 4.3587852771587166e-10, 4.1218517488061934e-10, 3.825534888868276e-10, 3.6473232767342267e-10, 3.4910105362051524e-10, 3.400639214667933e-10, 3.3421751477469286e-10, 3.250091029638469e-10, 3.165321893483508e-10, 3.065349918340843e-10, 2.9802224577046843e-10, 2.9362406950284026e-10, 2.835525980682263e-10, 2.728152426190178e-10, 2.4202154169650214e-10, 2.2724934434226185e-10, 2.2161326940217663e-10, 2.1256278681658358e-10], 'val_accuracy': [1.0, 1.0, 1.0, 1.0, 1.0, 1.0, 1.0, 1.0, 1.0, 1.0, 1.0, 1.0, 1.0, 1.0, 1.0, 1.0, 1.0, 1.0, 1.0, 1.0, 1.0, 1.0, 1.0, 1.0, 1.0, 1.0, 1.0, 1.0, 1.0, 1.0, 1.0, 1.0, 1.0, 1.0, 1.0, 1.0, 1.0, 1.0, 1.0, 1.0, 1.0, 1.0, 1.0, 1.0, 1.0, 1.0, 1.0, 1.0, 1.0, 1.0]}\n"
          ]
        }
      ]
    },
    {
      "cell_type": "code",
      "source": [
        "import matplotlib.pyplot as plt\n",
        "\n",
        "# Assuming the history dictionary you provided, REPLACE ... with actual numeric values\n",
        "history = {\n",
        "    'loss': [7.033682777546346e-06, 7.890207598393317e-06, 0.001],  # example replacement\n",
        "    'accuracy': [1.0, 1.0, 1.0, 0.98],  # example replacement\n",
        "    'val_loss': [3.91636900687331e-09, 3.7389074059035465e-09, 0.002],  # example replacement\n",
        "    'val_accuracy': [1.0, 1.0, 1.0, 0.97]  # example replacement\n",
        "}\n",
        "\n",
        "# Plotting the loss\n",
        "plt.figure(figsize=(14, 5))\n",
        "\n",
        "plt.subplot(1, 2, 1)\n",
        "plt.plot(history['loss'], label='Training Loss')\n",
        "plt.plot(history['val_loss'], label='Validation Loss')\n",
        "plt.title('Model Loss')\n",
        "plt.xlabel('Epoch')\n",
        "plt.ylabel('Loss')\n",
        "plt.legend(loc='upper right')\n",
        "\n",
        "# Plotting the accuracy\n",
        "plt.subplot(1, 2, 2)\n",
        "plt.plot(history['accuracy'], label='Training Accuracy')\n",
        "plt.plot(history['val_accuracy'], label='Validation Accuracy')\n",
        "plt.title('Model Accuracy')\n",
        "plt.xlabel('Epoch')\n",
        "plt.ylabel('Accuracy')\n",
        "plt.legend(loc='lower right')\n",
        "\n",
        "plt.show()\n"
      ],
      "metadata": {
        "colab": {
          "base_uri": "https://localhost:8080/",
          "height": 332
        },
        "id": "ktYuQysl4vyn",
        "outputId": "bdeca038-ba90-4823-a38f-8848faf7836d"
      },
      "execution_count": 44,
      "outputs": [
        {
          "output_type": "display_data",
          "data": {
            "text/plain": [
              "<Figure size 1400x500 with 2 Axes>"
            ],
            "image/png": "[encoded data removed]"
          },
          "metadata": {}
        }
      ]
    },
    {
      "cell_type": "code",
      "source": [
        "from tensorflow.keras.callbacks import EarlyStopping\n",
        "\n",
        "# Define the EarlyStopping callback\n",
        "early_stopping = EarlyStopping(\n",
        "    monitor='val_loss',  # Monitor validation loss\n",
        "    patience=31,          # Number of epochs with no improvement after which training will be stopped\n",
        "    restore_best_weights=True  # Restore model weights from the epoch with the best validation loss\n",
        ")\n",
        "\n",
        "# Train the model with EarlyStopping\n",
        "history = model.fit(\n",
        "    X, y,\n",
        "    epochs=50,               # Total number of epochs to train\n",
        "    batch_size=16,           # Batch size for training\n",
        "    validation_split=0.2,    # Use 20% of the data for validation\n",
        "    callbacks=[early_stopping]  # Add the EarlyStopping callback\n",
        ")\n"
      ],
      "metadata": {
        "colab": {
          "base_uri": "https://localhost:8080/"
        },
        "id": "dqufKEzV5tMM",
        "outputId": "c19906a1-256f-4044-e365-3f0cb5de4e6c"
      },
      "execution_count": 45,
      "outputs": [
        {
          "output_type": "stream",
          "name": "stdout",
          "text": [
            "Epoch 1/50\n",
            "23/23 [==============================] - 0s 5ms/step - loss: 1.0134e-06 - accuracy: 1.0000 - val_loss: 2.0292e-10 - val_accuracy: 1.0000\n",
            "Epoch 2/50\n",
            "23/23 [==============================] - 0s 3ms/step - loss: 1.4107e-07 - accuracy: 1.0000 - val_loss: 1.9959e-10 - val_accuracy: 1.0000\n",
            "Epoch 3/50\n",
            "23/23 [==============================] - 0s 4ms/step - loss: 2.9336e-06 - accuracy: 1.0000 - val_loss: 1.9137e-10 - val_accuracy: 1.0000\n",
            "Epoch 4/50\n",
            "23/23 [==============================] - 0s 3ms/step - loss: 7.5484e-07 - accuracy: 1.0000 - val_loss: 1.8724e-10 - val_accuracy: 1.0000\n",
            "Epoch 5/50\n",
            "23/23 [==============================] - 0s 3ms/step - loss: 1.2769e-06 - accuracy: 1.0000 - val_loss: 1.7884e-10 - val_accuracy: 1.0000\n",
            "Epoch 6/50\n",
            "23/23 [==============================] - 0s 4ms/step - loss: 2.5753e-06 - accuracy: 1.0000 - val_loss: 1.6819e-10 - val_accuracy: 1.0000\n",
            "Epoch 7/50\n",
            "23/23 [==============================] - 0s 5ms/step - loss: 3.3899e-07 - accuracy: 1.0000 - val_loss: 1.6483e-10 - val_accuracy: 1.0000\n",
            "Epoch 8/50\n",
            "23/23 [==============================] - 0s 5ms/step - loss: 4.0705e-07 - accuracy: 1.0000 - val_loss: 1.6212e-10 - val_accuracy: 1.0000\n",
            "Epoch 9/50\n",
            "23/23 [==============================] - 0s 5ms/step - loss: 2.5798e-06 - accuracy: 1.0000 - val_loss: 1.5431e-10 - val_accuracy: 1.0000\n",
            "Epoch 10/50\n",
            "23/23 [==============================] - 0s 5ms/step - loss: 5.9232e-06 - accuracy: 1.0000 - val_loss: 1.4340e-10 - val_accuracy: 1.0000\n",
            "Epoch 11/50\n",
            "23/23 [==============================] - 0s 4ms/step - loss: 5.9945e-07 - accuracy: 1.0000 - val_loss: 1.3583e-10 - val_accuracy: 1.0000\n",
            "Epoch 12/50\n",
            "23/23 [==============================] - 0s 4ms/step - loss: 2.0054e-06 - accuracy: 1.0000 - val_loss: 1.3039e-10 - val_accuracy: 1.0000\n",
            "Epoch 13/50\n",
            "23/23 [==============================] - 0s 4ms/step - loss: 1.5593e-06 - accuracy: 1.0000 - val_loss: 1.2504e-10 - val_accuracy: 1.0000\n",
            "Epoch 14/50\n",
            "23/23 [==============================] - 0s 4ms/step - loss: 6.0847e-07 - accuracy: 1.0000 - val_loss: 1.2120e-10 - val_accuracy: 1.0000\n",
            "Epoch 15/50\n",
            "23/23 [==============================] - 0s 4ms/step - loss: 1.0087e-06 - accuracy: 1.0000 - val_loss: 1.1804e-10 - val_accuracy: 1.0000\n",
            "Epoch 16/50\n",
            "23/23 [==============================] - 0s 4ms/step - loss: 2.4618e-07 - accuracy: 1.0000 - val_loss: 1.1635e-10 - val_accuracy: 1.0000\n",
            "Epoch 17/50\n",
            "23/23 [==============================] - 0s 7ms/step - loss: 1.0890e-06 - accuracy: 1.0000 - val_loss: 1.1279e-10 - val_accuracy: 1.0000\n",
            "Epoch 18/50\n",
            "23/23 [==============================] - 0s 7ms/step - loss: 6.1182e-06 - accuracy: 1.0000 - val_loss: 1.0457e-10 - val_accuracy: 1.0000\n",
            "Epoch 19/50\n",
            "23/23 [==============================] - 0s 7ms/step - loss: 6.9636e-07 - accuracy: 1.0000 - val_loss: 1.0034e-10 - val_accuracy: 1.0000\n",
            "Epoch 20/50\n",
            "23/23 [==============================] - 0s 7ms/step - loss: 1.8691e-06 - accuracy: 1.0000 - val_loss: 9.6282e-11 - val_accuracy: 1.0000\n",
            "Epoch 21/50\n",
            "23/23 [==============================] - 0s 6ms/step - loss: 1.6490e-06 - accuracy: 1.0000 - val_loss: 9.2871e-11 - val_accuracy: 1.0000\n",
            "Epoch 22/50\n",
            "23/23 [==============================] - 0s 8ms/step - loss: 2.8891e-07 - accuracy: 1.0000 - val_loss: 9.0482e-11 - val_accuracy: 1.0000\n",
            "Epoch 23/50\n",
            "23/23 [==============================] - 0s 8ms/step - loss: 3.6360e-06 - accuracy: 1.0000 - val_loss: 8.1818e-11 - val_accuracy: 1.0000\n",
            "Epoch 24/50\n",
            "23/23 [==============================] - 0s 9ms/step - loss: 1.2417e-06 - accuracy: 1.0000 - val_loss: 7.9029e-11 - val_accuracy: 1.0000\n",
            "Epoch 25/50\n",
            "23/23 [==============================] - 0s 9ms/step - loss: 5.9441e-07 - accuracy: 1.0000 - val_loss: 7.7024e-11 - val_accuracy: 1.0000\n",
            "Epoch 26/50\n",
            "23/23 [==============================] - 0s 9ms/step - loss: 1.1107e-06 - accuracy: 1.0000 - val_loss: 7.4568e-11 - val_accuracy: 1.0000\n",
            "Epoch 27/50\n",
            "23/23 [==============================] - 0s 7ms/step - loss: 5.1599e-07 - accuracy: 1.0000 - val_loss: 7.2653e-11 - val_accuracy: 1.0000\n",
            "Epoch 28/50\n",
            "23/23 [==============================] - 0s 9ms/step - loss: 6.9028e-07 - accuracy: 1.0000 - val_loss: 7.0697e-11 - val_accuracy: 1.0000\n",
            "Epoch 29/50\n",
            "23/23 [==============================] - 0s 9ms/step - loss: 3.6725e-07 - accuracy: 1.0000 - val_loss: 6.9320e-11 - val_accuracy: 1.0000\n",
            "Epoch 30/50\n",
            "23/23 [==============================] - 0s 8ms/step - loss: 2.3677e-07 - accuracy: 1.0000 - val_loss: 6.8150e-11 - val_accuracy: 1.0000\n",
            "Epoch 31/50\n",
            "23/23 [==============================] - 0s 8ms/step - loss: 3.7806e-06 - accuracy: 1.0000 - val_loss: 6.2994e-11 - val_accuracy: 1.0000\n",
            "Epoch 32/50\n",
            "23/23 [==============================] - 0s 8ms/step - loss: 4.3322e-07 - accuracy: 1.0000 - val_loss: 5.9391e-11 - val_accuracy: 1.0000\n",
            "Epoch 33/50\n",
            "23/23 [==============================] - 0s 10ms/step - loss: 9.0433e-06 - accuracy: 1.0000 - val_loss: 5.2017e-11 - val_accuracy: 1.0000\n",
            "Epoch 34/50\n",
            "23/23 [==============================] - 0s 8ms/step - loss: 2.9547e-07 - accuracy: 1.0000 - val_loss: 4.9791e-11 - val_accuracy: 1.0000\n",
            "Epoch 35/50\n",
            "23/23 [==============================] - 0s 9ms/step - loss: 1.4100e-06 - accuracy: 1.0000 - val_loss: 4.8066e-11 - val_accuracy: 1.0000\n",
            "Epoch 36/50\n",
            "23/23 [==============================] - 0s 9ms/step - loss: 3.4521e-06 - accuracy: 1.0000 - val_loss: 4.3809e-11 - val_accuracy: 1.0000\n",
            "Epoch 37/50\n",
            "23/23 [==============================] - 0s 11ms/step - loss: 1.2309e-07 - accuracy: 1.0000 - val_loss: 4.2549e-11 - val_accuracy: 1.0000\n",
            "Epoch 38/50\n",
            "23/23 [==============================] - 0s 10ms/step - loss: 5.7593e-07 - accuracy: 1.0000 - val_loss: 4.1722e-11 - val_accuracy: 1.0000\n",
            "Epoch 39/50\n",
            "23/23 [==============================] - 0s 7ms/step - loss: 5.1127e-07 - accuracy: 1.0000 - val_loss: 4.0751e-11 - val_accuracy: 1.0000\n",
            "Epoch 40/50\n",
            "23/23 [==============================] - 0s 9ms/step - loss: 8.0096e-08 - accuracy: 1.0000 - val_loss: 4.0188e-11 - val_accuracy: 1.0000\n",
            "Epoch 41/50\n",
            "23/23 [==============================] - 0s 10ms/step - loss: 8.0409e-07 - accuracy: 1.0000 - val_loss: 3.9614e-11 - val_accuracy: 1.0000\n",
            "Epoch 42/50\n",
            "23/23 [==============================] - 0s 10ms/step - loss: 8.5524e-06 - accuracy: 1.0000 - val_loss: 3.4297e-11 - val_accuracy: 1.0000\n",
            "Epoch 43/50\n",
            "23/23 [==============================] - 0s 10ms/step - loss: 5.2953e-07 - accuracy: 1.0000 - val_loss: 3.1825e-11 - val_accuracy: 1.0000\n",
            "Epoch 44/50\n",
            "23/23 [==============================] - 0s 9ms/step - loss: 3.5279e-07 - accuracy: 1.0000 - val_loss: 3.0924e-11 - val_accuracy: 1.0000\n",
            "Epoch 45/50\n",
            "23/23 [==============================] - 0s 9ms/step - loss: 7.4123e-07 - accuracy: 1.0000 - val_loss: 3.0150e-11 - val_accuracy: 1.0000\n",
            "Epoch 46/50\n",
            "23/23 [==============================] - 0s 10ms/step - loss: 7.7931e-07 - accuracy: 1.0000 - val_loss: 2.9116e-11 - val_accuracy: 1.0000\n",
            "Epoch 47/50\n",
            "23/23 [==============================] - 0s 9ms/step - loss: 3.5834e-07 - accuracy: 1.0000 - val_loss: 2.8461e-11 - val_accuracy: 1.0000\n",
            "Epoch 48/50\n",
            "23/23 [==============================] - 0s 10ms/step - loss: 5.2179e-08 - accuracy: 1.0000 - val_loss: 2.8192e-11 - val_accuracy: 1.0000\n",
            "Epoch 49/50\n",
            "23/23 [==============================] - 0s 10ms/step - loss: 9.0830e-07 - accuracy: 1.0000 - val_loss: 2.7502e-11 - val_accuracy: 1.0000\n",
            "Epoch 50/50\n",
            "23/23 [==============================] - 0s 9ms/step - loss: 1.0851e-06 - accuracy: 1.0000 - val_loss: 2.6013e-11 - val_accuracy: 1.0000\n"
          ]
        }
      ]
    },
    {
      "cell_type": "code",
      "source": [
        "# Check the number of epochs completed\n",
        "print(\"Number of epochs:\", len(history.history['loss']))"
      ],
      "metadata": {
        "colab": {
          "base_uri": "https://localhost:8080/"
        },
        "id": "Eigmuc2k6ExA",
        "outputId": "de421c9f-356c-4791-ebf8-fc04ecadf6d9"
      },
      "execution_count": 46,
      "outputs": [
        {
          "output_type": "stream",
          "name": "stdout",
          "text": [
            "Number of epochs: 50\n"
          ]
        }
      ]
    },
    {
      "cell_type": "code",
      "source": [
        "# Get the validation loss values from the history object\n",
        "val_loss = history.history['val_loss']\n",
        "\n",
        "# Print the validation loss values\n",
        "print(\"Validation Loss Values:\", val_loss)\n"
      ],
      "metadata": {
        "colab": {
          "base_uri": "https://localhost:8080/"
        },
        "id": "fFhTnPoh6f1o",
        "outputId": "0447d945-8f61-4fc7-cde4-a33a5910aabf"
      },
      "execution_count": 47,
      "outputs": [
        {
          "output_type": "stream",
          "name": "stdout",
          "text": [
            "Validation Loss Values: [2.02922817438278e-10, 1.9959399411018097e-10, 1.913657010632619e-10, 1.8724390093982635e-10, 1.7884220493424863e-10, 1.6819014236890695e-10, 1.648250702590559e-10, 1.6212149678285215e-10, 1.543093292033504e-10, 1.4339794629503189e-10, 1.35830652281399e-10, 1.3039233581757514e-10, 1.2504287882908471e-10, 1.2119594217097074e-10, 1.180432557257305e-10, 1.1634644636604463e-10, 1.1279179673584494e-10, 1.0456756988075355e-10, 1.0033900099681858e-10, 9.628219055368703e-11, 9.287117602729822e-11, 9.048238547304521e-11, 8.181765681625208e-11, 7.902934556769381e-11, 7.702405380172195e-11, 7.456790046544981e-11, 7.265280044244093e-11, 7.06972813624418e-11, 6.93202301116358e-11, 6.814965258783445e-11, 6.299361726691544e-11, 5.939131131338371e-11, 5.2016578544478165e-11, 4.9791396700138435e-11, 4.8065652152873284e-11, 4.3808616456697536e-11, 4.2548891493465746e-11, 4.1721705951180965e-11, 4.0751260005356116e-11, 4.0187707328609434e-11, 3.961427019749664e-11, 3.429703049340205e-11, 3.182494545672654e-11, 3.092443662255917e-11, 3.0150056062883124e-11, 2.911644536585101e-11, 2.8460955814324507e-11, 2.8192330414622546e-11, 2.7502038840721e-11, 2.601304241456326e-11]\n"
          ]
        }
      ]
    },
    {
      "cell_type": "markdown",
      "source": [
        "## **Plot Validation Loss**\n",
        "\n",
        "This plot is useful for monitoring how well the model is generalizing to unseen data during training. Ideally, we want to see the validation loss decrease over time, indicating that your model is learning to make better predictions on data it hasn't seen before."
      ],
      "metadata": {
        "id": "IVPkZkb0BAKL"
      }
    },
    {
      "cell_type": "code",
      "source": [
        "import matplotlib.pyplot as plt\n",
        "\n",
        "# Plot validation loss\n",
        "plt.plot(val_loss, label='Validation Loss')\n",
        "plt.xlabel('Epoch')\n",
        "plt.ylabel('Loss')\n",
        "plt.title('Validation Loss Over Epochs')\n",
        "plt.legend()\n",
        "plt.show()"
      ],
      "metadata": {
        "colab": {
          "base_uri": "https://localhost:8080/",
          "height": 472
        },
        "id": "pSdww2cO6tH2",
        "outputId": "f9ba375d-c6c5-40a2-f73f-0270756f2feb"
      },
      "execution_count": 48,
      "outputs": [
        {
          "output_type": "display_data",
          "data": {
            "text/plain": [
              "<Figure size 640x480 with 1 Axes>"
            ],
            "image/png": "[encoded data removed]"
          },
          "metadata": {}
        }
      ]
    },
    {
      "cell_type": "markdown",
      "source": [
        "## **Saving the Model**\n",
        "\n",
        "The **model.save()** method stores the entire model, including its architecture, weights, and training configuration, to a file. This allows you to reload the model later for further evaluation, predictions, or deployment without needing to retrain it."
      ],
      "metadata": {
        "id": "KHC3RCiqB8XN"
      }
    },
    {
      "cell_type": "code",
      "source": [
        "model.save('my_model.keras')"
      ],
      "metadata": {
        "id": "O1II9mHTYgZW"
      },
      "execution_count": 49,
      "outputs": []
    },
    {
      "cell_type": "markdown",
      "source": [
        "To deploy the trained model on mobile or edge devices, we convert it to the TensorFlow Lite (TFLite) format. TensorFlow Lite is designed for running machine learning models efficiently on mobile and embedded devices."
      ],
      "metadata": {
        "id": "gX6coea2CfCV"
      }
    },
    {
      "cell_type": "code",
      "source": [
        "converter = tf.lite.TFLiteConverter.from_keras_model(model)\n",
        "tflite_model = converter.convert()"
      ],
      "metadata": {
        "id": "f_-5jQpMj-l3"
      },
      "execution_count": 65,
      "outputs": []
    },
    {
      "cell_type": "markdown",
      "source": [
        "After converting the Keras model to TensorFlow Lite format, the model is saved to a file to be used on mobile devices. This step involves writing the TensorFlow Lite model data to a binary file."
      ],
      "metadata": {
        "id": "Psb0H-FoCgg4"
      }
    },
    {
      "cell_type": "code",
      "source": [
        "with open('model.tflite', 'wb') as f:\n",
        "    f.write(tflite_model)"
      ],
      "metadata": {
        "id": "CkSzdIhFj8Ih"
      },
      "execution_count": 66,
      "outputs": []
    },
    {
      "cell_type": "markdown",
      "source": [
        "To add metadata to the TensorFlow Lite model, we used `ImageClassifierWriter` to create a metadata writer for the existing `model.tflite`, then Specified normalization parameters and provided the path to the label file. We then populated the metadata and saved the updated model to `model_with_metadata.tflite`. Finally we handled potential errors with exception handling to ensure the process completes successfully."
      ],
      "metadata": {
        "id": "mSvoA-KDDFjw"
      }
    },
    {
      "cell_type": "code",
      "source": [
        "# Corrected Step 11: Write Metadata to the TensorFlow Lite Model\n",
        "ImageClassifierWriter = image_classifier.MetadataWriter\n",
        "\n",
        "try:\n",
        "    writer = ImageClassifierWriter.create_for_inference(\n",
        "        writer_utils.load_file('model.tflite'),\n",
        "        input_norm_mean=[127.5],\n",
        "        input_norm_std=[127.5],\n",
        "        label_file_paths=['labels.txt']  # Ensure 'labels.txt' exists and is correct\n",
        "    )\n",
        "\n",
        "    # Populate and Save Metadata\n",
        "    writer.populate()\n",
        "    writer_utils.save_file(writer.get_metadata_json(), 'model_with_metadata.tflite')\n",
        "    print(\"Metadata successfully written and saved.\")\n",
        "except TypeError as e:\n",
        "    print(f\"Encountered a TypeError: {e}\")\n",
        "except Exception as e:\n",
        "    print(f\"Encountered an error: {e}\")\n"
      ],
      "metadata": {
        "colab": {
          "base_uri": "https://localhost:8080/"
        },
        "id": "M3CsJlWv9QT_",
        "outputId": "a9d2a2f9-6ba6-4d45-c58b-7aee00cfc165"
      },
      "execution_count": 68,
      "outputs": [
        {
          "output_type": "stream",
          "name": "stdout",
          "text": [
            "Encountered a TypeError: Builder.EndVector() missing 1 required positional argument: 'vectorNumElems'\n"
          ]
        }
      ]
    },
    {
      "cell_type": "markdown",
      "source": [
        "**Download the TensorFlow Lite model from Google Colab**"
      ],
      "metadata": {
        "id": "kfFevRkVD_K6"
      }
    },
    {
      "cell_type": "code",
      "source": [
        "from google.colab import files\n",
        "files.download('model.tflite')  # Download the .tflite file"
      ],
      "metadata": {
        "colab": {
          "base_uri": "https://localhost:8080/",
          "height": 17
        },
        "id": "O_X8ZIOWZGXT",
        "outputId": "1362c8dd-4bd9-43f7-8fa6-a732d53f9f5d"
      },
      "execution_count": 69,
      "outputs": [
        {
          "output_type": "display_data",
          "data": {
            "text/plain": [
              "<IPython.core.display.Javascript object>"
            ],
            "application/javascript": [
              "\n",
              "    async function download(id, filename, size) {\n",
              "      if (!google.colab.kernel.accessAllowed) {\n",
              "        return;\n",
              "      }\n",
              "      const div = document.createElement('div');\n",
              "      const label = document.createElement('label');\n",
              "      label.textContent = `Downloading \"${filename}\": `;\n",
              "      div.appendChild(label);\n",
              "      const progress = document.createElement('progress');\n",
              "      progress.max = size;\n",
              "      div.appendChild(progress);\n",
              "      document.body.appendChild(div);\n",
              "\n",
              "      const buffers = [];\n",
              "      let downloaded = 0;\n",
              "\n",
              "      const channel = await google.colab.kernel.comms.open(id);\n",
              "      // Send a message to notify the kernel that we're ready.\n",
              "      channel.send({})\n",
              "\n",
              "      for await (const message of channel.messages) {\n",
              "        // Send a message to notify the kernel that we're ready.\n",
              "        channel.send({})\n",
              "        if (message.buffers) {\n",
              "          for (const buffer of message.buffers) {\n",
              "            buffers.push(buffer);\n",
              "            downloaded += buffer.byteLength;\n",
              "            progress.value = downloaded;\n",
              "          }\n",
              "        }\n",
              "      }\n",
              "      const blob = new Blob(buffers, {type: 'application/binary'});\n",
              "      const a = document.createElement('a');\n",
              "      a.href = window.URL.createObjectURL(blob);\n",
              "      a.download = filename;\n",
              "      div.appendChild(a);\n",
              "      a.click();\n",
              "      div.remove();\n",
              "    }\n",
              "  "
            ]
          },
          "metadata": {}
        },
        {
          "output_type": "display_data",
          "data": {
            "text/plain": [
              "<IPython.core.display.Javascript object>"
            ],
            "application/javascript": [
              "download(\"download_b072a66e-c989-4c4d-abfe-685c147feab0\", \"model.tflite\", 81248)"
            ]
          },
          "metadata": {}
        }
      ]
    }
  ]
}